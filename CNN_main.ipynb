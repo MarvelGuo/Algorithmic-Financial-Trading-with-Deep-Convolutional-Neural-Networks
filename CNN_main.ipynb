{
 "cells": [
  {
   "cell_type": "markdown",
   "metadata": {},
   "source": [
    "This notebook is used to test the model and tune the hypeparameters and by using a single train and test dataset for a ticker."
   ]
  },
  {
   "cell_type": "code",
   "execution_count": 1,
   "metadata": {
    "ExecuteTime": {
     "end_time": "2020-04-22T15:06:21.869113Z",
     "start_time": "2020-04-22T15:06:15.113231Z"
    }
   },
   "outputs": [],
   "source": [
    "from Data import *\n",
    "from Model_Analysis import *\n",
    "import pandas as pd\n",
    "import numpy as np\n",
    "import matplotlib.pyplot as plt\n",
    "from warnings import simplefilter\n",
    "simplefilter(action='ignore', category=Warning)\n",
    "\n",
    "import tensorflow as tf\n",
    "from sklearn.metrics import confusion_matrix, f1_score\n",
    "from tensorflow.keras.models import Sequential, load_model, Model\n",
    "from tensorflow.keras.layers import Dense, Dropout\n",
    "from tensorflow.keras.layers import Conv2D, MaxPool2D, Flatten, LeakyReLU\n",
    "from tensorflow.keras import regularizers\n",
    "from tensorflow.keras import optimizers\n",
    "from tensorflow.keras.callbacks import ModelCheckpoint, EarlyStopping, ReduceLROnPlateau, CSVLogger, Callback\n",
    "from tensorflow.keras import backend as K\n",
    "from tensorflow.keras.utils import get_custom_objects\n",
    "from tensorflow.keras.utils import model_to_dot, plot_model"
   ]
  },
  {
   "cell_type": "markdown",
   "metadata": {
    "ExecuteTime": {
     "end_time": "2020-04-15T21:08:15.176127Z",
     "start_time": "2020-04-15T21:08:15.169146Z"
    }
   },
   "source": [
    "#### Must Run:"
   ]
  },
  {
   "cell_type": "code",
   "execution_count": 2,
   "metadata": {
    "ExecuteTime": {
     "end_time": "2020-04-18T18:54:14.093735Z",
     "start_time": "2020-04-18T18:54:14.062822Z"
    }
   },
   "outputs": [],
   "source": [
    "Data_gen = Data('QQQ')\n",
    "df = Data_gen.Load_Data('2005-01-01', '2015-01-01')\n",
    "groups = Data_gen.get_groups(range(2005,2009), df)"
   ]
  },
  {
   "cell_type": "markdown",
   "metadata": {
    "ExecuteTime": {
     "end_time": "2020-04-11T23:31:10.707563Z",
     "start_time": "2020-04-11T23:31:10.703574Z"
    }
   },
   "source": [
    "## Data Preparation"
   ]
  },
  {
   "cell_type": "code",
   "execution_count": 3,
   "metadata": {
    "ExecuteTime": {
     "end_time": "2020-04-18T18:54:22.149828Z",
     "start_time": "2020-04-18T18:54:17.997816Z"
    }
   },
   "outputs": [
    {
     "name": "stdout",
     "output_type": "stream",
     "text": [
      "Calculating RSI\n"
     ]
    },
    {
     "data": {
      "application/vnd.jupyter.widget-view+json": {
       "model_id": "7fdf64b2f221467fa3850683e74044ae",
       "version_major": 2,
       "version_minor": 0
      },
      "text/plain": [
       "HBox(children=(FloatProgress(value=0.0, max=21.0), HTML(value='')))"
      ]
     },
     "metadata": {},
     "output_type": "display_data"
    },
    {
     "ename": "KeyboardInterrupt",
     "evalue": "",
     "output_type": "error",
     "traceback": [
      "\u001b[1;31m---------------------------------------------------------------------------\u001b[0m",
      "\u001b[1;31mKeyboardInterrupt\u001b[0m                         Traceback (most recent call last)",
      "\u001b[1;32m<ipython-input-3-e844d4935097>\u001b[0m in \u001b[0;36m<module>\u001b[1;34m\u001b[0m\n\u001b[0;32m      1\u001b[0m \u001b[0mdata\u001b[0m\u001b[1;33m=\u001b[0m\u001b[0mgroups\u001b[0m\u001b[1;33m[\u001b[0m\u001b[1;36m2007\u001b[0m\u001b[1;33m]\u001b[0m\u001b[1;33m\u001b[0m\u001b[1;33m\u001b[0m\u001b[0m\n\u001b[1;32m----> 2\u001b[1;33m \u001b[0mdf\u001b[0m \u001b[1;33m=\u001b[0m \u001b[0mData_gen\u001b[0m\u001b[1;33m.\u001b[0m\u001b[0mcal_tech\u001b[0m\u001b[1;33m(\u001b[0m\u001b[0mdata\u001b[0m\u001b[1;33m,\u001b[0m \u001b[1;34m'close'\u001b[0m\u001b[1;33m,\u001b[0m \u001b[0mrange\u001b[0m\u001b[1;33m(\u001b[0m\u001b[1;36m6\u001b[0m\u001b[1;33m,\u001b[0m\u001b[1;36m27\u001b[0m\u001b[1;33m)\u001b[0m\u001b[1;33m)\u001b[0m\u001b[1;33m\u001b[0m\u001b[1;33m\u001b[0m\u001b[0m\n\u001b[0m",
      "\u001b[1;32mE:\\NOTEBOOK\\MF796\\Data.py\u001b[0m in \u001b[0;36mcal_tech\u001b[1;34m(self, df, col_name, intervals, whole_df)\u001b[0m\n\u001b[0;32m    152\u001b[0m                 \u001b[1;32mreturn\u001b[0m \u001b[0mself\u001b[0m\u001b[1;33m.\u001b[0m\u001b[0mdf_Tech\u001b[0m\u001b[1;33m\u001b[0m\u001b[1;33m\u001b[0m\u001b[0m\n\u001b[0;32m    153\u001b[0m \u001b[1;33m\u001b[0m\u001b[0m\n\u001b[1;32m--> 154\u001b[1;33m         \u001b[0mget_RSI_smooth\u001b[0m\u001b[1;33m(\u001b[0m\u001b[0mdf\u001b[0m\u001b[1;33m,\u001b[0m \u001b[0mcol_name\u001b[0m\u001b[1;33m,\u001b[0m \u001b[0mintervals\u001b[0m\u001b[1;33m)\u001b[0m  \u001b[1;31m# momentum\u001b[0m\u001b[1;33m\u001b[0m\u001b[1;33m\u001b[0m\u001b[0m\n\u001b[0m\u001b[0;32m    155\u001b[0m         \u001b[0mget_williamR\u001b[0m\u001b[1;33m(\u001b[0m\u001b[0mdf\u001b[0m\u001b[1;33m,\u001b[0m \u001b[0mcol_name\u001b[0m\u001b[1;33m,\u001b[0m \u001b[0mintervals\u001b[0m\u001b[1;33m)\u001b[0m  \u001b[1;31m# momentum\u001b[0m\u001b[1;33m\u001b[0m\u001b[1;33m\u001b[0m\u001b[0m\n\u001b[0;32m    156\u001b[0m         \u001b[0mget_mfi\u001b[0m\u001b[1;33m(\u001b[0m\u001b[0mdf\u001b[0m\u001b[1;33m,\u001b[0m \u001b[0mintervals\u001b[0m\u001b[1;33m)\u001b[0m  \u001b[1;31m# momentum\u001b[0m\u001b[1;33m\u001b[0m\u001b[1;33m\u001b[0m\u001b[0m\n",
      "\u001b[1;32mE:\\NOTEBOOK\\MF796\\Tech_Indicator.py\u001b[0m in \u001b[0;36mget_RSI_smooth\u001b[1;34m(df, col_name, intervals)\u001b[0m\n\u001b[0;32m    100\u001b[0m         \u001b[1;31m# df['rsi_'+str(period)+'_own_1'] = np.nan\u001b[0m\u001b[1;33m\u001b[0m\u001b[1;33m\u001b[0m\u001b[1;33m\u001b[0m\u001b[0m\n\u001b[0;32m    101\u001b[0m         \u001b[0mrolling_count\u001b[0m \u001b[1;33m=\u001b[0m \u001b[1;36m0\u001b[0m\u001b[1;33m\u001b[0m\u001b[1;33m\u001b[0m\u001b[0m\n\u001b[1;32m--> 102\u001b[1;33m         \u001b[0mres\u001b[0m \u001b[1;33m=\u001b[0m \u001b[0mdiff\u001b[0m\u001b[1;33m.\u001b[0m\u001b[0mrolling\u001b[0m\u001b[1;33m(\u001b[0m\u001b[0mperiod\u001b[0m\u001b[1;33m)\u001b[0m\u001b[1;33m.\u001b[0m\u001b[0mapply\u001b[0m\u001b[1;33m(\u001b[0m\u001b[0mcalculate_RSI\u001b[0m\u001b[1;33m,\u001b[0m \u001b[0margs\u001b[0m\u001b[1;33m=\u001b[0m\u001b[1;33m(\u001b[0m\u001b[0mperiod\u001b[0m\u001b[1;33m,\u001b[0m\u001b[1;33m)\u001b[0m\u001b[1;33m,\u001b[0m \u001b[0mraw\u001b[0m\u001b[1;33m=\u001b[0m\u001b[1;32mFalse\u001b[0m\u001b[1;33m)\u001b[0m\u001b[1;33m\u001b[0m\u001b[1;33m\u001b[0m\u001b[0m\n\u001b[0m\u001b[0;32m    103\u001b[0m         \u001b[0mdf\u001b[0m\u001b[1;33m[\u001b[0m\u001b[1;34m'rsi_'\u001b[0m \u001b[1;33m+\u001b[0m \u001b[0mstr\u001b[0m\u001b[1;33m(\u001b[0m\u001b[0mperiod\u001b[0m\u001b[1;33m)\u001b[0m\u001b[1;33m]\u001b[0m\u001b[1;33m[\u001b[0m\u001b[1;36m1\u001b[0m\u001b[1;33m:\u001b[0m\u001b[1;33m]\u001b[0m \u001b[1;33m=\u001b[0m \u001b[0mres\u001b[0m\u001b[1;33m\u001b[0m\u001b[1;33m\u001b[0m\u001b[0m\n\u001b[0;32m    104\u001b[0m \u001b[1;33m\u001b[0m\u001b[0m\n",
      "\u001b[1;32mE:\\SoftWare\\Anaconda\\lib\\site-packages\\pandas\\core\\window\\rolling.py\u001b[0m in \u001b[0;36mapply\u001b[1;34m(self, func, raw, engine, engine_kwargs, args, kwargs)\u001b[0m\n\u001b[0;32m   1989\u001b[0m             \u001b[0mengine_kwargs\u001b[0m\u001b[1;33m=\u001b[0m\u001b[0mengine_kwargs\u001b[0m\u001b[1;33m,\u001b[0m\u001b[1;33m\u001b[0m\u001b[1;33m\u001b[0m\u001b[0m\n\u001b[0;32m   1990\u001b[0m             \u001b[0margs\u001b[0m\u001b[1;33m=\u001b[0m\u001b[0margs\u001b[0m\u001b[1;33m,\u001b[0m\u001b[1;33m\u001b[0m\u001b[1;33m\u001b[0m\u001b[0m\n\u001b[1;32m-> 1991\u001b[1;33m             \u001b[0mkwargs\u001b[0m\u001b[1;33m=\u001b[0m\u001b[0mkwargs\u001b[0m\u001b[1;33m,\u001b[0m\u001b[1;33m\u001b[0m\u001b[1;33m\u001b[0m\u001b[0m\n\u001b[0m\u001b[0;32m   1992\u001b[0m         )\n\u001b[0;32m   1993\u001b[0m \u001b[1;33m\u001b[0m\u001b[0m\n",
      "\u001b[1;32mE:\\SoftWare\\Anaconda\\lib\\site-packages\\pandas\\core\\window\\rolling.py\u001b[0m in \u001b[0;36mapply\u001b[1;34m(self, func, raw, engine, engine_kwargs, args, kwargs)\u001b[0m\n\u001b[0;32m   1304\u001b[0m             \u001b[0mname\u001b[0m\u001b[1;33m=\u001b[0m\u001b[0mfunc\u001b[0m\u001b[1;33m,\u001b[0m\u001b[1;33m\u001b[0m\u001b[1;33m\u001b[0m\u001b[0m\n\u001b[0;32m   1305\u001b[0m             \u001b[0muse_numba_cache\u001b[0m\u001b[1;33m=\u001b[0m\u001b[0mengine\u001b[0m \u001b[1;33m==\u001b[0m \u001b[1;34m\"numba\"\u001b[0m\u001b[1;33m,\u001b[0m\u001b[1;33m\u001b[0m\u001b[1;33m\u001b[0m\u001b[0m\n\u001b[1;32m-> 1306\u001b[1;33m             \u001b[0mraw\u001b[0m\u001b[1;33m=\u001b[0m\u001b[0mraw\u001b[0m\u001b[1;33m,\u001b[0m\u001b[1;33m\u001b[0m\u001b[1;33m\u001b[0m\u001b[0m\n\u001b[0m\u001b[0;32m   1307\u001b[0m         )\n\u001b[0;32m   1308\u001b[0m \u001b[1;33m\u001b[0m\u001b[0m\n",
      "\u001b[1;32mE:\\SoftWare\\Anaconda\\lib\\site-packages\\pandas\\core\\window\\rolling.py\u001b[0m in \u001b[0;36m_apply\u001b[1;34m(self, func, center, require_min_periods, floor, is_weighted, name, use_numba_cache, **kwargs)\u001b[0m\n\u001b[0;32m    505\u001b[0m                     \u001b[0mresult\u001b[0m \u001b[1;33m=\u001b[0m \u001b[0mnp\u001b[0m\u001b[1;33m.\u001b[0m\u001b[0mapply_along_axis\u001b[0m\u001b[1;33m(\u001b[0m\u001b[0mcalc\u001b[0m\u001b[1;33m,\u001b[0m \u001b[0mself\u001b[0m\u001b[1;33m.\u001b[0m\u001b[0maxis\u001b[0m\u001b[1;33m,\u001b[0m \u001b[0mvalues\u001b[0m\u001b[1;33m)\u001b[0m\u001b[1;33m\u001b[0m\u001b[1;33m\u001b[0m\u001b[0m\n\u001b[0;32m    506\u001b[0m                 \u001b[1;32melse\u001b[0m\u001b[1;33m:\u001b[0m\u001b[1;33m\u001b[0m\u001b[1;33m\u001b[0m\u001b[0m\n\u001b[1;32m--> 507\u001b[1;33m                     \u001b[0mresult\u001b[0m \u001b[1;33m=\u001b[0m \u001b[0mcalc\u001b[0m\u001b[1;33m(\u001b[0m\u001b[0mvalues\u001b[0m\u001b[1;33m)\u001b[0m\u001b[1;33m\u001b[0m\u001b[1;33m\u001b[0m\u001b[0m\n\u001b[0m\u001b[0;32m    508\u001b[0m                     \u001b[0mresult\u001b[0m \u001b[1;33m=\u001b[0m \u001b[0mnp\u001b[0m\u001b[1;33m.\u001b[0m\u001b[0masarray\u001b[0m\u001b[1;33m(\u001b[0m\u001b[0mresult\u001b[0m\u001b[1;33m)\u001b[0m\u001b[1;33m\u001b[0m\u001b[1;33m\u001b[0m\u001b[0m\n\u001b[0;32m    509\u001b[0m \u001b[1;33m\u001b[0m\u001b[0m\n",
      "\u001b[1;32mE:\\SoftWare\\Anaconda\\lib\\site-packages\\pandas\\core\\window\\rolling.py\u001b[0m in \u001b[0;36mcalc\u001b[1;34m(x)\u001b[0m\n\u001b[0;32m    493\u001b[0m                         \u001b[0mclosed\u001b[0m\u001b[1;33m=\u001b[0m\u001b[0mself\u001b[0m\u001b[1;33m.\u001b[0m\u001b[0mclosed\u001b[0m\u001b[1;33m,\u001b[0m\u001b[1;33m\u001b[0m\u001b[1;33m\u001b[0m\u001b[0m\n\u001b[0;32m    494\u001b[0m                     )\n\u001b[1;32m--> 495\u001b[1;33m                     \u001b[1;32mreturn\u001b[0m \u001b[0mfunc\u001b[0m\u001b[1;33m(\u001b[0m\u001b[0mx\u001b[0m\u001b[1;33m,\u001b[0m \u001b[0mstart\u001b[0m\u001b[1;33m,\u001b[0m \u001b[0mend\u001b[0m\u001b[1;33m,\u001b[0m \u001b[0mmin_periods\u001b[0m\u001b[1;33m)\u001b[0m\u001b[1;33m\u001b[0m\u001b[1;33m\u001b[0m\u001b[0m\n\u001b[0m\u001b[0;32m    496\u001b[0m \u001b[1;33m\u001b[0m\u001b[0m\n\u001b[0;32m    497\u001b[0m             \u001b[1;32melse\u001b[0m\u001b[1;33m:\u001b[0m\u001b[1;33m\u001b[0m\u001b[1;33m\u001b[0m\u001b[0m\n",
      "\u001b[1;32mE:\\SoftWare\\Anaconda\\lib\\site-packages\\pandas\\core\\window\\rolling.py\u001b[0m in \u001b[0;36mapply_func\u001b[1;34m(values, begin, end, min_periods, raw)\u001b[0m\n\u001b[0;32m   1322\u001b[0m             \u001b[1;32mif\u001b[0m \u001b[1;32mnot\u001b[0m \u001b[0mraw\u001b[0m\u001b[1;33m:\u001b[0m\u001b[1;33m\u001b[0m\u001b[1;33m\u001b[0m\u001b[0m\n\u001b[0;32m   1323\u001b[0m                 \u001b[0mvalues\u001b[0m \u001b[1;33m=\u001b[0m \u001b[0mSeries\u001b[0m\u001b[1;33m(\u001b[0m\u001b[0mvalues\u001b[0m\u001b[1;33m,\u001b[0m \u001b[0mindex\u001b[0m\u001b[1;33m=\u001b[0m\u001b[0mself\u001b[0m\u001b[1;33m.\u001b[0m\u001b[0mobj\u001b[0m\u001b[1;33m.\u001b[0m\u001b[0mindex\u001b[0m\u001b[1;33m)\u001b[0m\u001b[1;33m\u001b[0m\u001b[1;33m\u001b[0m\u001b[0m\n\u001b[1;32m-> 1324\u001b[1;33m             \u001b[1;32mreturn\u001b[0m \u001b[0mwindow_func\u001b[0m\u001b[1;33m(\u001b[0m\u001b[0mvalues\u001b[0m\u001b[1;33m,\u001b[0m \u001b[0mbegin\u001b[0m\u001b[1;33m,\u001b[0m \u001b[0mend\u001b[0m\u001b[1;33m,\u001b[0m \u001b[0mmin_periods\u001b[0m\u001b[1;33m)\u001b[0m\u001b[1;33m\u001b[0m\u001b[1;33m\u001b[0m\u001b[0m\n\u001b[0m\u001b[0;32m   1325\u001b[0m \u001b[1;33m\u001b[0m\u001b[0m\n\u001b[0;32m   1326\u001b[0m         \u001b[1;32mreturn\u001b[0m \u001b[0mapply_func\u001b[0m\u001b[1;33m\u001b[0m\u001b[1;33m\u001b[0m\u001b[0m\n",
      "\u001b[1;32mpandas\\_libs\\window\\aggregations.pyx\u001b[0m in \u001b[0;36mpandas._libs.window.aggregations.roll_generic_fixed\u001b[1;34m()\u001b[0m\n",
      "\u001b[1;32mE:\\NOTEBOOK\\MF796\\Tech_Indicator.py\u001b[0m in \u001b[0;36mcalculate_RSI\u001b[1;34m(series, period)\u001b[0m\n\u001b[0;32m     73\u001b[0m         \u001b[1;31m# sum_losses = np.abs(series[series < 0].sum())\u001b[0m\u001b[1;33m\u001b[0m\u001b[1;33m\u001b[0m\u001b[1;33m\u001b[0m\u001b[0m\n\u001b[0;32m     74\u001b[0m         \u001b[0mcurr_gains\u001b[0m \u001b[1;33m=\u001b[0m \u001b[0mseries\u001b[0m\u001b[1;33m.\u001b[0m\u001b[0mwhere\u001b[0m\u001b[1;33m(\u001b[0m\u001b[0mseries\u001b[0m \u001b[1;33m>=\u001b[0m \u001b[1;36m0\u001b[0m\u001b[1;33m,\u001b[0m \u001b[1;36m0\u001b[0m\u001b[1;33m)\u001b[0m  \u001b[1;31m# replace 0 where series not > 0\u001b[0m\u001b[1;33m\u001b[0m\u001b[1;33m\u001b[0m\u001b[0m\n\u001b[1;32m---> 75\u001b[1;33m         \u001b[0mcurr_losses\u001b[0m \u001b[1;33m=\u001b[0m \u001b[0mnp\u001b[0m\u001b[1;33m.\u001b[0m\u001b[0mabs\u001b[0m\u001b[1;33m(\u001b[0m\u001b[0mseries\u001b[0m\u001b[1;33m.\u001b[0m\u001b[0mwhere\u001b[0m\u001b[1;33m(\u001b[0m\u001b[0mseries\u001b[0m \u001b[1;33m<\u001b[0m \u001b[1;36m0\u001b[0m\u001b[1;33m,\u001b[0m \u001b[1;36m0\u001b[0m\u001b[1;33m)\u001b[0m\u001b[1;33m)\u001b[0m\u001b[1;33m\u001b[0m\u001b[1;33m\u001b[0m\u001b[0m\n\u001b[0m\u001b[0;32m     76\u001b[0m         \u001b[0mavg_gain\u001b[0m \u001b[1;33m=\u001b[0m \u001b[0mcurr_gains\u001b[0m\u001b[1;33m.\u001b[0m\u001b[0msum\u001b[0m\u001b[1;33m(\u001b[0m\u001b[1;33m)\u001b[0m \u001b[1;33m/\u001b[0m \u001b[0mperiod\u001b[0m  \u001b[1;31m# * 100\u001b[0m\u001b[1;33m\u001b[0m\u001b[1;33m\u001b[0m\u001b[0m\n\u001b[0;32m     77\u001b[0m         \u001b[0mavg_loss\u001b[0m \u001b[1;33m=\u001b[0m \u001b[0mcurr_losses\u001b[0m\u001b[1;33m.\u001b[0m\u001b[0msum\u001b[0m\u001b[1;33m(\u001b[0m\u001b[1;33m)\u001b[0m \u001b[1;33m/\u001b[0m \u001b[0mperiod\u001b[0m  \u001b[1;31m# * 100\u001b[0m\u001b[1;33m\u001b[0m\u001b[1;33m\u001b[0m\u001b[0m\n",
      "\u001b[1;32mE:\\SoftWare\\Anaconda\\lib\\site-packages\\pandas\\core\\generic.py\u001b[0m in \u001b[0;36mwhere\u001b[1;34m(self, cond, other, inplace, axis, level, errors, try_cast)\u001b[0m\n\u001b[0;32m   8917\u001b[0m         \u001b[0mother\u001b[0m \u001b[1;33m=\u001b[0m \u001b[0mcom\u001b[0m\u001b[1;33m.\u001b[0m\u001b[0mapply_if_callable\u001b[0m\u001b[1;33m(\u001b[0m\u001b[0mother\u001b[0m\u001b[1;33m,\u001b[0m \u001b[0mself\u001b[0m\u001b[1;33m)\u001b[0m\u001b[1;33m\u001b[0m\u001b[1;33m\u001b[0m\u001b[0m\n\u001b[0;32m   8918\u001b[0m         return self._where(\n\u001b[1;32m-> 8919\u001b[1;33m             \u001b[0mcond\u001b[0m\u001b[1;33m,\u001b[0m \u001b[0mother\u001b[0m\u001b[1;33m,\u001b[0m \u001b[0minplace\u001b[0m\u001b[1;33m,\u001b[0m \u001b[0maxis\u001b[0m\u001b[1;33m,\u001b[0m \u001b[0mlevel\u001b[0m\u001b[1;33m,\u001b[0m \u001b[0merrors\u001b[0m\u001b[1;33m=\u001b[0m\u001b[0merrors\u001b[0m\u001b[1;33m,\u001b[0m \u001b[0mtry_cast\u001b[0m\u001b[1;33m=\u001b[0m\u001b[0mtry_cast\u001b[0m\u001b[1;33m\u001b[0m\u001b[1;33m\u001b[0m\u001b[0m\n\u001b[0m\u001b[0;32m   8920\u001b[0m         )\n\u001b[0;32m   8921\u001b[0m \u001b[1;33m\u001b[0m\u001b[0m\n",
      "\u001b[1;32mE:\\SoftWare\\Anaconda\\lib\\site-packages\\pandas\\core\\generic.py\u001b[0m in \u001b[0;36m_where\u001b[1;34m(self, cond, other, inplace, axis, level, errors, try_cast)\u001b[0m\n\u001b[0;32m   8772\u001b[0m                 \u001b[0merrors\u001b[0m\u001b[1;33m=\u001b[0m\u001b[0merrors\u001b[0m\u001b[1;33m,\u001b[0m\u001b[1;33m\u001b[0m\u001b[1;33m\u001b[0m\u001b[0m\n\u001b[0;32m   8773\u001b[0m                 \u001b[0mtry_cast\u001b[0m\u001b[1;33m=\u001b[0m\u001b[0mtry_cast\u001b[0m\u001b[1;33m,\u001b[0m\u001b[1;33m\u001b[0m\u001b[1;33m\u001b[0m\u001b[0m\n\u001b[1;32m-> 8774\u001b[1;33m                 \u001b[0maxis\u001b[0m\u001b[1;33m=\u001b[0m\u001b[0mblock_axis\u001b[0m\u001b[1;33m,\u001b[0m\u001b[1;33m\u001b[0m\u001b[1;33m\u001b[0m\u001b[0m\n\u001b[0m\u001b[0;32m   8775\u001b[0m             )\n\u001b[0;32m   8776\u001b[0m \u001b[1;33m\u001b[0m\u001b[0m\n",
      "\u001b[1;32mE:\\SoftWare\\Anaconda\\lib\\site-packages\\pandas\\core\\internals\\managers.py\u001b[0m in \u001b[0;36mwhere\u001b[1;34m(self, **kwargs)\u001b[0m\n\u001b[0;32m    556\u001b[0m \u001b[1;33m\u001b[0m\u001b[0m\n\u001b[0;32m    557\u001b[0m     \u001b[1;32mdef\u001b[0m \u001b[0mwhere\u001b[0m\u001b[1;33m(\u001b[0m\u001b[0mself\u001b[0m\u001b[1;33m,\u001b[0m \u001b[1;33m**\u001b[0m\u001b[0mkwargs\u001b[0m\u001b[1;33m)\u001b[0m\u001b[1;33m:\u001b[0m\u001b[1;33m\u001b[0m\u001b[1;33m\u001b[0m\u001b[0m\n\u001b[1;32m--> 558\u001b[1;33m         \u001b[1;32mreturn\u001b[0m \u001b[0mself\u001b[0m\u001b[1;33m.\u001b[0m\u001b[0mapply\u001b[0m\u001b[1;33m(\u001b[0m\u001b[1;34m\"where\"\u001b[0m\u001b[1;33m,\u001b[0m \u001b[1;33m**\u001b[0m\u001b[0mkwargs\u001b[0m\u001b[1;33m)\u001b[0m\u001b[1;33m\u001b[0m\u001b[1;33m\u001b[0m\u001b[0m\n\u001b[0m\u001b[0;32m    559\u001b[0m \u001b[1;33m\u001b[0m\u001b[0m\n\u001b[0;32m    560\u001b[0m     \u001b[1;32mdef\u001b[0m \u001b[0msetitem\u001b[0m\u001b[1;33m(\u001b[0m\u001b[0mself\u001b[0m\u001b[1;33m,\u001b[0m \u001b[1;33m**\u001b[0m\u001b[0mkwargs\u001b[0m\u001b[1;33m)\u001b[0m\u001b[1;33m:\u001b[0m\u001b[1;33m\u001b[0m\u001b[1;33m\u001b[0m\u001b[0m\n",
      "\u001b[1;32mE:\\SoftWare\\Anaconda\\lib\\site-packages\\pandas\\core\\internals\\managers.py\u001b[0m in \u001b[0;36mapply\u001b[1;34m(self, f, filter, **kwargs)\u001b[0m\n\u001b[0;32m    435\u001b[0m                 \u001b[1;32mfor\u001b[0m \u001b[0mk\u001b[0m\u001b[1;33m,\u001b[0m \u001b[0mobj\u001b[0m \u001b[1;32min\u001b[0m \u001b[0maligned_args\u001b[0m\u001b[1;33m.\u001b[0m\u001b[0mitems\u001b[0m\u001b[1;33m(\u001b[0m\u001b[1;33m)\u001b[0m\u001b[1;33m:\u001b[0m\u001b[1;33m\u001b[0m\u001b[1;33m\u001b[0m\u001b[0m\n\u001b[0;32m    436\u001b[0m                     \u001b[0maxis\u001b[0m \u001b[1;33m=\u001b[0m \u001b[0mobj\u001b[0m\u001b[1;33m.\u001b[0m\u001b[0m_info_axis_number\u001b[0m\u001b[1;33m\u001b[0m\u001b[1;33m\u001b[0m\u001b[0m\n\u001b[1;32m--> 437\u001b[1;33m                     \u001b[0mkwargs\u001b[0m\u001b[1;33m[\u001b[0m\u001b[0mk\u001b[0m\u001b[1;33m]\u001b[0m \u001b[1;33m=\u001b[0m \u001b[0mobj\u001b[0m\u001b[1;33m.\u001b[0m\u001b[0mreindex\u001b[0m\u001b[1;33m(\u001b[0m\u001b[0mb_items\u001b[0m\u001b[1;33m,\u001b[0m \u001b[0maxis\u001b[0m\u001b[1;33m=\u001b[0m\u001b[0maxis\u001b[0m\u001b[1;33m,\u001b[0m \u001b[0mcopy\u001b[0m\u001b[1;33m=\u001b[0m\u001b[0malign_copy\u001b[0m\u001b[1;33m)\u001b[0m\u001b[1;33m\u001b[0m\u001b[1;33m\u001b[0m\u001b[0m\n\u001b[0m\u001b[0;32m    438\u001b[0m \u001b[1;33m\u001b[0m\u001b[0m\n\u001b[0;32m    439\u001b[0m             \u001b[1;32mif\u001b[0m \u001b[0mcallable\u001b[0m\u001b[1;33m(\u001b[0m\u001b[0mf\u001b[0m\u001b[1;33m)\u001b[0m\u001b[1;33m:\u001b[0m\u001b[1;33m\u001b[0m\u001b[1;33m\u001b[0m\u001b[0m\n",
      "\u001b[1;32mE:\\SoftWare\\Anaconda\\lib\\site-packages\\pandas\\core\\series.py\u001b[0m in \u001b[0;36mreindex\u001b[1;34m(self, index, **kwargs)\u001b[0m\n\u001b[0;32m   4028\u001b[0m     \u001b[1;33m@\u001b[0m\u001b[0mAppender\u001b[0m\u001b[1;33m(\u001b[0m\u001b[0mgeneric\u001b[0m\u001b[1;33m.\u001b[0m\u001b[0mNDFrame\u001b[0m\u001b[1;33m.\u001b[0m\u001b[0mreindex\u001b[0m\u001b[1;33m.\u001b[0m\u001b[0m__doc__\u001b[0m\u001b[1;33m)\u001b[0m\u001b[1;33m\u001b[0m\u001b[1;33m\u001b[0m\u001b[0m\n\u001b[0;32m   4029\u001b[0m     \u001b[1;32mdef\u001b[0m \u001b[0mreindex\u001b[0m\u001b[1;33m(\u001b[0m\u001b[0mself\u001b[0m\u001b[1;33m,\u001b[0m \u001b[0mindex\u001b[0m\u001b[1;33m=\u001b[0m\u001b[1;32mNone\u001b[0m\u001b[1;33m,\u001b[0m \u001b[1;33m**\u001b[0m\u001b[0mkwargs\u001b[0m\u001b[1;33m)\u001b[0m\u001b[1;33m:\u001b[0m\u001b[1;33m\u001b[0m\u001b[1;33m\u001b[0m\u001b[0m\n\u001b[1;32m-> 4030\u001b[1;33m         \u001b[1;32mreturn\u001b[0m \u001b[0msuper\u001b[0m\u001b[1;33m(\u001b[0m\u001b[1;33m)\u001b[0m\u001b[1;33m.\u001b[0m\u001b[0mreindex\u001b[0m\u001b[1;33m(\u001b[0m\u001b[0mindex\u001b[0m\u001b[1;33m=\u001b[0m\u001b[0mindex\u001b[0m\u001b[1;33m,\u001b[0m \u001b[1;33m**\u001b[0m\u001b[0mkwargs\u001b[0m\u001b[1;33m)\u001b[0m\u001b[1;33m\u001b[0m\u001b[1;33m\u001b[0m\u001b[0m\n\u001b[0m\u001b[0;32m   4031\u001b[0m \u001b[1;33m\u001b[0m\u001b[0m\n\u001b[0;32m   4032\u001b[0m     def drop(\n",
      "\u001b[1;32mE:\\SoftWare\\Anaconda\\lib\\site-packages\\pandas\\core\\generic.py\u001b[0m in \u001b[0;36mreindex\u001b[1;34m(self, *args, **kwargs)\u001b[0m\n\u001b[0;32m   4533\u001b[0m         ):\n\u001b[0;32m   4534\u001b[0m             \u001b[1;32mif\u001b[0m \u001b[0mcopy\u001b[0m\u001b[1;33m:\u001b[0m\u001b[1;33m\u001b[0m\u001b[1;33m\u001b[0m\u001b[0m\n\u001b[1;32m-> 4535\u001b[1;33m                 \u001b[1;32mreturn\u001b[0m \u001b[0mself\u001b[0m\u001b[1;33m.\u001b[0m\u001b[0mcopy\u001b[0m\u001b[1;33m(\u001b[0m\u001b[1;33m)\u001b[0m\u001b[1;33m\u001b[0m\u001b[1;33m\u001b[0m\u001b[0m\n\u001b[0m\u001b[0;32m   4536\u001b[0m             \u001b[1;32mreturn\u001b[0m \u001b[0mself\u001b[0m\u001b[1;33m\u001b[0m\u001b[1;33m\u001b[0m\u001b[0m\n\u001b[0;32m   4537\u001b[0m \u001b[1;33m\u001b[0m\u001b[0m\n",
      "\u001b[1;32mE:\\SoftWare\\Anaconda\\lib\\site-packages\\pandas\\core\\generic.py\u001b[0m in \u001b[0;36mcopy\u001b[1;34m(self, deep)\u001b[0m\n\u001b[0;32m   5809\u001b[0m         \u001b[0mdtype\u001b[0m\u001b[1;33m:\u001b[0m \u001b[0mobject\u001b[0m\u001b[1;33m\u001b[0m\u001b[1;33m\u001b[0m\u001b[0m\n\u001b[0;32m   5810\u001b[0m         \"\"\"\n\u001b[1;32m-> 5811\u001b[1;33m         \u001b[0mdata\u001b[0m \u001b[1;33m=\u001b[0m \u001b[0mself\u001b[0m\u001b[1;33m.\u001b[0m\u001b[0m_data\u001b[0m\u001b[1;33m.\u001b[0m\u001b[0mcopy\u001b[0m\u001b[1;33m(\u001b[0m\u001b[0mdeep\u001b[0m\u001b[1;33m=\u001b[0m\u001b[0mdeep\u001b[0m\u001b[1;33m)\u001b[0m\u001b[1;33m\u001b[0m\u001b[1;33m\u001b[0m\u001b[0m\n\u001b[0m\u001b[0;32m   5812\u001b[0m         \u001b[1;32mreturn\u001b[0m \u001b[0mself\u001b[0m\u001b[1;33m.\u001b[0m\u001b[0m_constructor\u001b[0m\u001b[1;33m(\u001b[0m\u001b[0mdata\u001b[0m\u001b[1;33m)\u001b[0m\u001b[1;33m.\u001b[0m\u001b[0m__finalize__\u001b[0m\u001b[1;33m(\u001b[0m\u001b[0mself\u001b[0m\u001b[1;33m)\u001b[0m\u001b[1;33m\u001b[0m\u001b[1;33m\u001b[0m\u001b[0m\n\u001b[0;32m   5813\u001b[0m \u001b[1;33m\u001b[0m\u001b[0m\n",
      "\u001b[1;32mE:\\SoftWare\\Anaconda\\lib\\site-packages\\pandas\\core\\internals\\managers.py\u001b[0m in \u001b[0;36mcopy\u001b[1;34m(self, deep)\u001b[0m\n\u001b[0;32m    792\u001b[0m             \u001b[0mnew_axes\u001b[0m \u001b[1;33m=\u001b[0m \u001b[0mlist\u001b[0m\u001b[1;33m(\u001b[0m\u001b[0mself\u001b[0m\u001b[1;33m.\u001b[0m\u001b[0maxes\u001b[0m\u001b[1;33m)\u001b[0m\u001b[1;33m\u001b[0m\u001b[1;33m\u001b[0m\u001b[0m\n\u001b[0;32m    793\u001b[0m \u001b[1;33m\u001b[0m\u001b[0m\n\u001b[1;32m--> 794\u001b[1;33m         \u001b[0mres\u001b[0m \u001b[1;33m=\u001b[0m \u001b[0mself\u001b[0m\u001b[1;33m.\u001b[0m\u001b[0mapply\u001b[0m\u001b[1;33m(\u001b[0m\u001b[1;34m\"copy\"\u001b[0m\u001b[1;33m,\u001b[0m \u001b[0mdeep\u001b[0m\u001b[1;33m=\u001b[0m\u001b[0mdeep\u001b[0m\u001b[1;33m)\u001b[0m\u001b[1;33m\u001b[0m\u001b[1;33m\u001b[0m\u001b[0m\n\u001b[0m\u001b[0;32m    795\u001b[0m         \u001b[0mres\u001b[0m\u001b[1;33m.\u001b[0m\u001b[0maxes\u001b[0m \u001b[1;33m=\u001b[0m \u001b[0mnew_axes\u001b[0m\u001b[1;33m\u001b[0m\u001b[1;33m\u001b[0m\u001b[0m\n\u001b[0;32m    796\u001b[0m         \u001b[1;32mreturn\u001b[0m \u001b[0mres\u001b[0m\u001b[1;33m\u001b[0m\u001b[1;33m\u001b[0m\u001b[0m\n",
      "\u001b[1;32mE:\\SoftWare\\Anaconda\\lib\\site-packages\\pandas\\core\\internals\\managers.py\u001b[0m in \u001b[0;36mapply\u001b[1;34m(self, f, filter, **kwargs)\u001b[0m\n\u001b[0;32m    440\u001b[0m                 \u001b[0mapplied\u001b[0m \u001b[1;33m=\u001b[0m \u001b[0mb\u001b[0m\u001b[1;33m.\u001b[0m\u001b[0mapply\u001b[0m\u001b[1;33m(\u001b[0m\u001b[0mf\u001b[0m\u001b[1;33m,\u001b[0m \u001b[1;33m**\u001b[0m\u001b[0mkwargs\u001b[0m\u001b[1;33m)\u001b[0m\u001b[1;33m\u001b[0m\u001b[1;33m\u001b[0m\u001b[0m\n\u001b[0;32m    441\u001b[0m             \u001b[1;32melse\u001b[0m\u001b[1;33m:\u001b[0m\u001b[1;33m\u001b[0m\u001b[1;33m\u001b[0m\u001b[0m\n\u001b[1;32m--> 442\u001b[1;33m                 \u001b[0mapplied\u001b[0m \u001b[1;33m=\u001b[0m \u001b[0mgetattr\u001b[0m\u001b[1;33m(\u001b[0m\u001b[0mb\u001b[0m\u001b[1;33m,\u001b[0m \u001b[0mf\u001b[0m\u001b[1;33m)\u001b[0m\u001b[1;33m(\u001b[0m\u001b[1;33m**\u001b[0m\u001b[0mkwargs\u001b[0m\u001b[1;33m)\u001b[0m\u001b[1;33m\u001b[0m\u001b[1;33m\u001b[0m\u001b[0m\n\u001b[0m\u001b[0;32m    443\u001b[0m             \u001b[0mresult_blocks\u001b[0m \u001b[1;33m=\u001b[0m \u001b[0m_extend_blocks\u001b[0m\u001b[1;33m(\u001b[0m\u001b[0mapplied\u001b[0m\u001b[1;33m,\u001b[0m \u001b[0mresult_blocks\u001b[0m\u001b[1;33m)\u001b[0m\u001b[1;33m\u001b[0m\u001b[1;33m\u001b[0m\u001b[0m\n\u001b[0;32m    444\u001b[0m \u001b[1;33m\u001b[0m\u001b[0m\n",
      "\u001b[1;32mE:\\SoftWare\\Anaconda\\lib\\site-packages\\pandas\\core\\internals\\blocks.py\u001b[0m in \u001b[0;36mcopy\u001b[1;34m(self, deep)\u001b[0m\n\u001b[0;32m    696\u001b[0m         \u001b[0mvalues\u001b[0m \u001b[1;33m=\u001b[0m \u001b[0mself\u001b[0m\u001b[1;33m.\u001b[0m\u001b[0mvalues\u001b[0m\u001b[1;33m\u001b[0m\u001b[1;33m\u001b[0m\u001b[0m\n\u001b[0;32m    697\u001b[0m         \u001b[1;32mif\u001b[0m \u001b[0mdeep\u001b[0m\u001b[1;33m:\u001b[0m\u001b[1;33m\u001b[0m\u001b[1;33m\u001b[0m\u001b[0m\n\u001b[1;32m--> 698\u001b[1;33m             \u001b[0mvalues\u001b[0m \u001b[1;33m=\u001b[0m \u001b[0mvalues\u001b[0m\u001b[1;33m.\u001b[0m\u001b[0mcopy\u001b[0m\u001b[1;33m(\u001b[0m\u001b[1;33m)\u001b[0m\u001b[1;33m\u001b[0m\u001b[1;33m\u001b[0m\u001b[0m\n\u001b[0m\u001b[0;32m    699\u001b[0m         \u001b[1;32mreturn\u001b[0m \u001b[0mself\u001b[0m\u001b[1;33m.\u001b[0m\u001b[0mmake_block_same_class\u001b[0m\u001b[1;33m(\u001b[0m\u001b[0mvalues\u001b[0m\u001b[1;33m,\u001b[0m \u001b[0mndim\u001b[0m\u001b[1;33m=\u001b[0m\u001b[0mself\u001b[0m\u001b[1;33m.\u001b[0m\u001b[0mndim\u001b[0m\u001b[1;33m)\u001b[0m\u001b[1;33m\u001b[0m\u001b[1;33m\u001b[0m\u001b[0m\n\u001b[0;32m    700\u001b[0m \u001b[1;33m\u001b[0m\u001b[0m\n",
      "\u001b[1;31mKeyboardInterrupt\u001b[0m: "
     ]
    }
   ],
   "source": [
    "data=groups[2007]\n",
    "df = Data_gen.cal_tech(data, 'close', range(6,27))"
   ]
  },
  {
   "cell_type": "code",
   "execution_count": 4,
   "metadata": {
    "ExecuteTime": {
     "end_time": "2020-04-14T23:30:52.556236Z",
     "start_time": "2020-04-14T23:30:25.381774Z"
    },
    "collapsed": true
   },
   "outputs": [
    {
     "name": "stdout",
     "output_type": "stream",
     "text": [
      "Calculating labels\n"
     ]
    },
    {
     "data": {
      "application/vnd.jupyter.widget-view+json": {
       "model_id": "83b42c9c005d4fa9b8ee0c9952d9d19f",
       "version_major": 2,
       "version_minor": 0
      },
      "text/plain": [
       "HBox(children=(FloatProgress(value=0.0, max=1510.0), HTML(value='')))"
      ]
     },
     "metadata": {},
     "output_type": "display_data"
    },
    {
     "name": "stdout",
     "output_type": "stream",
     "text": [
      "\n",
      "\n",
      "real class weights are [6.58       5.98181818 0.37301587] [0 1 2]\n",
      "value_counts (array([0, 1, 2]), array([ 50,  55, 882], dtype=int64))\n",
      "\n",
      "Selected Features: ['rsi_6', 'rsi_7', 'rsi_8', 'rsi_9', 'rsi_11', 'rsi_12', 'rsi_14', 'rsi_16', 'rsi_17', 'rsi_18', 'wr_6', 'wr_7', 'wr_8', 'wr_9', 'wr_10', 'wr_11', 'wr_12', 'wr_13', 'wr_14', 'wr_15', 'wr_16', 'wr_17', 'wr_18', 'wr_19', 'wr_20', 'wr_22', 'wr_23', 'wr_26', 'mfi_6', 'mfi_7', 'mfi_8', 'mfi_9', 'mfi_10', 'mfi_11', 'mfi_12', 'mfi_13', 'mfi_15', 'mfi_16', 'mfi_17', 'roc_6', 'roc_7', 'cmf_6', 'cmf_7', 'cmf_8', 'cmf_9', 'cmf_11', 'cmf_12', 'cmf_13', 'cmf_14', 'cmf_15', 'cmf_16', 'cmf_17', 'cmf_18', 'cmf_19', 'cmf_20', 'cmf_23', 'cmf_25', 'cmo_7', 'cmo_8', 'cmo_9', 'cmo_10', 'cmo_11', 'cmo_13', 'cmo_15', 'cmo_17', 'cmo_18', 'cmo_19', 'cmo_23', 'ema_22', 'ema_23', 'ema_24', 'ema_25', 'ema_26', 'wma_6', 'wma_7', 'wma_8', 'wma_9', 'wma_10', 'wma_12', 'wma_13', 'wma_14', 'wma_15', 'wma_17', 'wma_19', 'wma_20', 'wma_21', 'wma_22', 'wma_24', 'wma_26', 'hma_0', 'hma_1', 'hma_2', 'hma_4', 'hma_5', 'hma_6', 'hma_7', 'hma_8', 'hma_9', 'hma_10', 'hma_11', 'hma_12', 'hma_13', 'hma_14', 'hma_15', 'hma_16', 'hma_18', 'hma_19', 'hma_20', 'trix_6', 'trix_7', 'trix_8', 'trix_9', 'trix_10', 'trix_11', 'trix_12', 'trix_15', 'cci_6', 'cci_7', 'cci_8', 'cci_9', 'cci_10', 'cci_11', 'cci_12', 'cci_13', 'cci_14', 'cci_15', 'cci_16', 'cci_17', 'cci_18', 'cci_19', 'cci_20', 'cci_21', 'cci_22', 'cci_23', 'cci_24', 'cci_25', 'cci_26', 'dpo_6', 'dpo_7', 'dpo_8', 'dpo_9', 'dpo_10', 'dpo_14', 'dpo_15', 'dpo_16', 'dpo_17', 'dpo_18', 'dpo_19', 'dpo_20', 'dpo_21', 'dpo_22', 'dpo_23', 'dpo_24', 'dpo_25', 'kst_6', 'kst_7', 'kst_8', 'kst_10', 'kst_11', 'kst_12', 'kst_13', 'kst_14', 'kst_15', 'kst_16', 'kst_17', 'kst_18', 'kst_19', 'kst_20', 'kst_21', 'kst_22', 'kst_23', 'kst_25', 'kst_26', 'dmi_6', 'dmi_7', 'dmi_8', 'dmi_9', 'dmi_10', 'dmi_11', 'dmi_12', 'dmi_13', 'dmi_14', 'dmi_15', 'dmi_16', 'dmi_17', 'dmi_18', 'dmi_20', 'dmi_21', 'dmi_23', 'dmi_24', 'bb_6', 'bb_7', 'bb_8', 'bb_9', 'bb_11', 'bb_12', 'bb_13', 'bb_15', 'bb_17', 'bb_18', 'bb_19', 'bb_20', 'bb_21', 'bb_22', 'bb_23', 'bb_24', 'bb_25', 'bb_26', 'fi_6', 'fi_7', 'fi_8', 'fi_9', 'fi_10', 'fi_11', 'fi_12', 'fi_14', 'fi_15', 'fi_16', 'fi_17', 'fi_18', 'fi_19', 'fi_20', 'fi_21', 'fi_25', 'fi_26']\n"
     ]
    }
   ],
   "source": [
    "x_train, x_cv, x_test, y_train, y_cv, y_test, train_class_weights = Data_gen.Process_Data(df, top_k=325, dim=15)"
   ]
  },
  {
   "cell_type": "code",
   "execution_count": 6,
   "metadata": {
    "ExecuteTime": {
     "end_time": "2020-04-15T21:08:48.265945Z",
     "start_time": "2020-04-15T21:08:48.223063Z"
    }
   },
   "outputs": [],
   "source": [
    "year = 2007\n",
    "x_train, x_cv, x_test, y_train, y_cv, y_test, train_class_weights = Data_gen.load_np_data(year)"
   ]
  },
  {
   "cell_type": "markdown",
   "metadata": {
    "ExecuteTime": {
     "end_time": "2020-04-11T23:30:50.312033Z",
     "start_time": "2020-04-11T23:30:50.305052Z"
    }
   },
   "source": [
    "## CNN"
   ]
  },
  {
   "cell_type": "code",
   "execution_count": 2,
   "metadata": {
    "ExecuteTime": {
     "end_time": "2020-04-22T15:06:25.950309Z",
     "start_time": "2020-04-22T15:06:25.695685Z"
    }
   },
   "outputs": [],
   "source": [
    "params = {'batch_size': 80,\n",
    "          'conv2d_layers1': {'dropout': 0.2, 'filters': 35,\n",
    "                                              'kernel_size': 2, 'maxpool': 0, 'strides': 1,\n",
    "                                              'kernel_regularizer': 0.0, 'padding': 'valid', 'kernel_initializer': 'random_normal'},\n",
    "          'conv2d_layers2': {'dropout': 0.05, 'filters': 20,\n",
    "                             'kernel_size': 2, 'maxpool': 2, 'strides': 2,\n",
    "                             'kernel_regularizer': 0.0, 'padding': 'valid',  'kernel_initializer': 'random_normal'},\n",
    "          'dense_layers': {'dense_do_1': 0.2, 'dense_nodes_1': 100, 'kernel_regularizer_1': 0.0, 'layers': 'one'},\n",
    "          'epochs': 3000, 'lr': 0.001, 'optimizer': 'adam',\n",
    "          'input_dim_1': 15, 'input_dim_2': 15, 'input_dim_3': 3}\n",
    "\n",
    "model = Sequential()\n",
    "conv_layer1 = Conv2D(filters=params[\"conv2d_layers1\"][\"filters\"],\n",
    "                     kernel_size=params[\"conv2d_layers1\"][\"kernel_size\"],\n",
    "                     strides=params[\"conv2d_layers1\"][\"strides\"],\n",
    "                     kernel_regularizer=regularizers.l2(\n",
    "                         params[\"conv2d_layers1\"][\"kernel_regularizer\"]),\n",
    "                     padding=params[\"conv2d_layers1\"][\"padding\"], activation=\"relu\", use_bias=True,\n",
    "                     kernel_initializer=params['conv2d_layers1']['kernel_initializer'],\n",
    "                     input_shape=(params['input_dim_1'],\n",
    "                                        params['input_dim_2'], params['input_dim_3']))\n",
    "model.add(conv_layer1)\n",
    "if params[\"conv2d_layers1\"]['maxpool'] != 0:\n",
    "    model.add(MaxPool2D(pool_size=params[\"conv2d_layers1\"]['maxpool']))\n",
    "model.add(Dropout(params['conv2d_layers1']['dropout']))\n",
    "\n",
    "conv_layer2 = Conv2D(filters=params[\"conv2d_layers2\"][\"filters\"],\n",
    "                     kernel_size=params[\"conv2d_layers2\"][\"kernel_size\"],\n",
    "                     strides=params[\"conv2d_layers2\"][\"strides\"],\n",
    "                     kernel_regularizer=regularizers.l2(\n",
    "                         params[\"conv2d_layers2\"][\"kernel_regularizer\"]),\n",
    "                     padding=params[\"conv2d_layers2\"][\"padding\"], activation=\"relu\", use_bias=True,\n",
    "                     kernel_initializer=params['conv2d_layers2']['kernel_initializer'])\n",
    "model.add(conv_layer2)\n",
    "model.add(MaxPool2D(pool_size=params[\"conv2d_layers2\"]['maxpool']))\n",
    "model.add(Dropout(params['conv2d_layers2']['dropout']))\n",
    "\n",
    "model.add(Flatten())\n",
    "model.add(Dense(params['dense_layers'][\"dense_nodes_1\"],\n",
    "                activation='relu'))  # FC layer\n",
    "model.add(Dropout(params['dense_layers'][\"dense_do_1\"]))\n",
    "\n",
    "model.add(Dense(3, activation='softmax'))"
   ]
  },
  {
   "cell_type": "code",
   "execution_count": 3,
   "metadata": {
    "ExecuteTime": {
     "end_time": "2020-04-22T15:06:27.449111Z",
     "start_time": "2020-04-22T15:06:27.368325Z"
    },
    "scrolled": false
   },
   "outputs": [
    {
     "name": "stdout",
     "output_type": "stream",
     "text": [
      "Model: \"sequential\"\n",
      "\n",
      "_________________________________________________________________\n",
      "\n",
      "Layer (type)                 Output Shape              Param #   \n",
      "\n",
      "=================================================================\n",
      "\n",
      "conv2d (Conv2D)              (None, 14, 14, 35)        455       \n",
      "\n",
      "_________________________________________________________________\n",
      "\n",
      "dropout (Dropout)            (None, 14, 14, 35)        0         \n",
      "\n",
      "_________________________________________________________________\n",
      "\n",
      "conv2d_1 (Conv2D)            (None, 7, 7, 20)          2820      \n",
      "\n",
      "_________________________________________________________________\n",
      "\n",
      "max_pooling2d (MaxPooling2D) (None, 3, 3, 20)          0         \n",
      "\n",
      "_________________________________________________________________\n",
      "\n",
      "dropout_1 (Dropout)          (None, 3, 3, 20)          0         \n",
      "\n",
      "_________________________________________________________________\n",
      "\n",
      "flatten (Flatten)            (None, 180)               0         \n",
      "\n",
      "_________________________________________________________________\n",
      "\n",
      "dense (Dense)                (None, 100)               18100     \n",
      "\n",
      "_________________________________________________________________\n",
      "\n",
      "dropout_2 (Dropout)          (None, 100)               0         \n",
      "\n",
      "_________________________________________________________________\n",
      "\n",
      "dense_1 (Dense)              (None, 3)                 303       \n",
      "\n",
      "=================================================================\n",
      "\n",
      "Total params: 21,678\n",
      "\n",
      "Trainable params: 21,678\n",
      "\n",
      "Non-trainable params: 0\n",
      "\n",
      "_________________________________________________________________\n",
      "\n"
     ]
    }
   ],
   "source": [
    "optimizer = optimizers.Adam(learning_rate=params[\"lr\"], beta_1=0.9, beta_2=0.999, amsgrad=False)\n",
    "model.compile(loss='categorical_crossentropy', optimizer=optimizer, metrics=['accuracy', f1_metric])\n",
    "model.summary(print_fn=lambda x: print(x + '\\n'))\n",
    "# plot_model(model, to_file='model.png', show_shapes=True, show_layer_names=False)"
   ]
  },
  {
   "cell_type": "code",
   "execution_count": 17,
   "metadata": {
    "ExecuteTime": {
     "end_time": "2020-04-15T21:24:45.253316Z",
     "start_time": "2020-04-15T21:24:45.242313Z"
    }
   },
   "outputs": [],
   "source": [
    "###  Callback Function\n",
    "# es: EarlyStop the training when the condition is satisfied\n",
    "# rlp: Reduce Learning Rate when loss stops decreasing\n",
    "# mcp: Save the best model \n",
    "best_model_path = '.\\\\Data\\\\AAPL\\\\best_model\\\\model' + time.strftime(\"%Y%m%d_%H%M\", time.localtime())\n",
    "if not os.path.exists(best_model_path):\n",
    "    os.mkdir(best_model_path)\n",
    "    \n",
    "get_custom_objects().update({\"f1_metric\": f1_metric})\n",
    "es = EarlyStopping(monitor='val_loss', mode='min', verbose=1,\n",
    "                   patience=100, min_delta=0.0001)\n",
    "rlp = ReduceLROnPlateau(monitor='val_loss', factor=0.02, patience=10, verbose=1, mode='min',\n",
    "                        min_delta=0.001, cooldown=1, min_lr=0.0001) \n",
    "mcp = ModelCheckpoint(best_model_path,  verbose=0,\n",
    "                      save_best_only=True, save_weights_only=False, mode='min', save_freq='epoch') "
   ]
  },
  {
   "cell_type": "code",
   "execution_count": 18,
   "metadata": {
    "ExecuteTime": {
     "end_time": "2020-04-15T21:27:42.543291Z",
     "start_time": "2020-04-15T21:24:46.570600Z"
    },
    "scrolled": true
   },
   "outputs": [
    {
     "name": "stdout",
     "output_type": "stream",
     "text": [
      "WARNING:tensorflow:sample_weight modes were coerced from\n",
      "  ...\n",
      "    to  \n",
      "  ['...']\n",
      "Train on 987 samples, validate on 247 samples\n",
      "Epoch 1/3000\n",
      "900/987 [==========================>...] - ETA: 0s - loss: 1.1074 - accuracy: 0.4322 - f1_metric: 0.0107INFO:tensorflow:Assets written to: .\\Data\\AAPL\\best_model\\model20200415_1724\\assets\n",
      "987/987 [==============================] - 2s 2ms/sample - loss: 1.0974 - accuracy: 0.4265 - f1_metric: 0.0095 - val_loss: 1.0172 - val_accuracy: 0.6032 - val_f1_metric: 0.0000e+00\n",
      "Epoch 2/3000\n",
      "900/987 [==========================>...] - ETA: 0s - loss: 1.1202 - accuracy: 0.4478 - f1_metric: 0.0297INFO:tensorflow:Assets written to: .\\Data\\AAPL\\best_model\\model20200415_1724\\assets\n",
      "987/987 [==============================] - 2s 2ms/sample - loss: 1.0770 - accuracy: 0.4509 - f1_metric: 0.0262 - val_loss: 1.0154 - val_accuracy: 0.4737 - val_f1_metric: 0.0000e+00\n",
      "Epoch 3/3000\n",
      "900/987 [==========================>...] - ETA: 0s - loss: 1.0183 - accuracy: 0.5389 - f1_metric: 0.1129INFO:tensorflow:Assets written to: .\\Data\\AAPL\\best_model\\model20200415_1724\\assets\n",
      "987/987 [==============================] - 2s 2ms/sample - loss: 0.9988 - accuracy: 0.5319 - f1_metric: 0.1198 - val_loss: 0.9156 - val_accuracy: 0.5061 - val_f1_metric: 0.1703\n",
      "Epoch 4/3000\n",
      "987/987 [==============================] - 1s 763us/sample - loss: 0.8899 - accuracy: 0.4326 - f1_metric: 0.2949 - val_loss: 0.9665 - val_accuracy: 0.3644 - val_f1_metric: 0.2098\n",
      "Epoch 5/3000\n",
      "987/987 [==============================] - 1s 751us/sample - loss: 0.8477 - accuracy: 0.3972 - f1_metric: 0.2640 - val_loss: 1.0788 - val_accuracy: 0.2713 - val_f1_metric: 0.1392\n",
      "Epoch 6/3000\n",
      "987/987 [==============================] - 1s 744us/sample - loss: 0.7901 - accuracy: 0.4671 - f1_metric: 0.3710 - val_loss: 1.1016 - val_accuracy: 0.3117 - val_f1_metric: 0.1806\n",
      "Epoch 7/3000\n",
      "987/987 [==============================] - 1s 743us/sample - loss: 0.7482 - accuracy: 0.4843 - f1_metric: 0.4031 - val_loss: 1.0542 - val_accuracy: 0.3765 - val_f1_metric: 0.2261\n",
      "Epoch 8/3000\n",
      "987/987 [==============================] - 1s 738us/sample - loss: 0.6991 - accuracy: 0.4711 - f1_metric: 0.3902 - val_loss: 1.0514 - val_accuracy: 0.3806 - val_f1_metric: 0.2351\n",
      "Epoch 9/3000\n",
      "900/987 [==========================>...] - ETA: 0s - loss: 0.6663 - accuracy: 0.4500 - f1_metric: 0.3816INFO:tensorflow:Assets written to: .\\Data\\AAPL\\best_model\\model20200415_1724\\assets\n",
      "987/987 [==============================] - 2s 2ms/sample - loss: 0.6848 - accuracy: 0.4610 - f1_metric: 0.3968 - val_loss: 0.7508 - val_accuracy: 0.6032 - val_f1_metric: 0.5263\n",
      "Epoch 10/3000\n",
      "900/987 [==========================>...] - ETA: 0s - loss: 0.6239 - accuracy: 0.5644 - f1_metric: 0.5088INFO:tensorflow:Assets written to: .\\Data\\AAPL\\best_model\\model20200415_1724\\assets\n",
      "987/987 [==============================] - 2s 2ms/sample - loss: 0.6234 - accuracy: 0.5643 - f1_metric: 0.5074 - val_loss: 0.6825 - val_accuracy: 0.6559 - val_f1_metric: 0.5781\n",
      "Epoch 11/3000\n",
      "900/987 [==========================>...] - ETA: 0s - loss: 0.6422 - accuracy: 0.5244 - f1_metric: 0.4908INFO:tensorflow:Assets written to: .\\Data\\AAPL\\best_model\\model20200415_1724\\assets\n",
      "987/987 [==============================] - 2s 2ms/sample - loss: 0.6246 - accuracy: 0.5279 - f1_metric: 0.4980 - val_loss: 0.6678 - val_accuracy: 0.6437 - val_f1_metric: 0.5923\n",
      "Epoch 12/3000\n",
      "900/987 [==========================>...] - ETA: 0s - loss: 0.5833 - accuracy: 0.5856 - f1_metric: 0.5618INFO:tensorflow:Assets written to: .\\Data\\AAPL\\best_model\\model20200415_1724\\assets\n",
      "987/987 [==============================] - 2s 2ms/sample - loss: 0.5715 - accuracy: 0.5846 - f1_metric: 0.5612 - val_loss: 0.6033 - val_accuracy: 0.7004 - val_f1_metric: 0.6493\n",
      "Epoch 13/3000\n",
      "987/987 [==============================] - 1s 992us/sample - loss: 0.5518 - accuracy: 0.6322 - f1_metric: 0.6063 - val_loss: 0.8245 - val_accuracy: 0.5506 - val_f1_metric: 0.5078\n",
      "Epoch 14/3000\n",
      "987/987 [==============================] - 1s 1ms/sample - loss: 0.5355 - accuracy: 0.6535 - f1_metric: 0.6250 - val_loss: 0.8511 - val_accuracy: 0.5142 - val_f1_metric: 0.4861\n",
      "Epoch 15/3000\n",
      "987/987 [==============================] - 1s 1ms/sample - loss: 0.4793 - accuracy: 0.6130 - f1_metric: 0.5866 - val_loss: 0.6853 - val_accuracy: 0.6721 - val_f1_metric: 0.6572\n",
      "Epoch 16/3000\n",
      "987/987 [==============================] - 1s 934us/sample - loss: 0.4882 - accuracy: 0.6596 - f1_metric: 0.6431 - val_loss: 0.7046 - val_accuracy: 0.6356 - val_f1_metric: 0.6359\n",
      "Epoch 17/3000\n",
      "987/987 [==============================] - 1s 910us/sample - loss: 0.4816 - accuracy: 0.6464 - f1_metric: 0.6209 - val_loss: 0.6235 - val_accuracy: 0.6923 - val_f1_metric: 0.6670\n",
      "Epoch 18/3000\n",
      "987/987 [==============================] - 1s 914us/sample - loss: 0.4160 - accuracy: 0.7214 - f1_metric: 0.7109 - val_loss: 0.8218 - val_accuracy: 0.5709 - val_f1_metric: 0.5072\n",
      "Epoch 19/3000\n",
      "987/987 [==============================] - 1s 762us/sample - loss: 0.4339 - accuracy: 0.6940 - f1_metric: 0.6875 - val_loss: 0.6632 - val_accuracy: 0.6518 - val_f1_metric: 0.6156\n",
      "Epoch 20/3000\n",
      "900/987 [==========================>...] - ETA: 0s - loss: 0.4055 - accuracy: 0.7033 - f1_metric: 0.6906INFO:tensorflow:Assets written to: .\\Data\\AAPL\\best_model\\model20200415_1724\\assets\n",
      "987/987 [==============================] - 2s 2ms/sample - loss: 0.4109 - accuracy: 0.7021 - f1_metric: 0.6894 - val_loss: 0.5905 - val_accuracy: 0.7206 - val_f1_metric: 0.6651\n",
      "Epoch 21/3000\n",
      "900/987 [==========================>...] - ETA: 0s - loss: 0.4104 - accuracy: 0.7067 - f1_metric: 0.7004INFO:tensorflow:Assets written to: .\\Data\\AAPL\\best_model\\model20200415_1724\\assets\n",
      "987/987 [==============================] - 2s 2ms/sample - loss: 0.4041 - accuracy: 0.7153 - f1_metric: 0.7124 - val_loss: 0.4652 - val_accuracy: 0.7773 - val_f1_metric: 0.7907\n",
      "Epoch 22/3000\n",
      "987/987 [==============================] - 1s 939us/sample - loss: 0.3700 - accuracy: 0.7528 - f1_metric: 0.7528 - val_loss: 0.6399 - val_accuracy: 0.6842 - val_f1_metric: 0.6382\n",
      "Epoch 23/3000\n",
      "987/987 [==============================] - 1s 792us/sample - loss: 0.3714 - accuracy: 0.7204 - f1_metric: 0.7174 - val_loss: 0.5836 - val_accuracy: 0.7206 - val_f1_metric: 0.6674\n",
      "Epoch 24/3000\n",
      "987/987 [==============================] - 1s 743us/sample - loss: 0.4053 - accuracy: 0.7427 - f1_metric: 0.7397 - val_loss: 0.5793 - val_accuracy: 0.7004 - val_f1_metric: 0.6540\n",
      "Epoch 25/3000\n",
      "987/987 [==============================] - 1s 754us/sample - loss: 0.4188 - accuracy: 0.6788 - f1_metric: 0.6656 - val_loss: 0.5278 - val_accuracy: 0.7611 - val_f1_metric: 0.7732\n",
      "Epoch 26/3000\n",
      "987/987 [==============================] - 1s 838us/sample - loss: 0.3665 - accuracy: 0.7579 - f1_metric: 0.7559 - val_loss: 0.5667 - val_accuracy: 0.7328 - val_f1_metric: 0.7557\n",
      "Epoch 27/3000\n",
      "987/987 [==============================] - 1s 815us/sample - loss: 0.3452 - accuracy: 0.7194 - f1_metric: 0.7171 - val_loss: 0.4892 - val_accuracy: 0.7652 - val_f1_metric: 0.7818\n",
      "Epoch 28/3000\n",
      "987/987 [==============================] - 1s 778us/sample - loss: 0.3240 - accuracy: 0.7913 - f1_metric: 0.7876 - val_loss: 0.5516 - val_accuracy: 0.7490 - val_f1_metric: 0.7146\n",
      "Epoch 29/3000\n",
      "960/987 [============================>.] - ETA: 0s - loss: 0.3093 - accuracy: 0.7708 - f1_metric: 0.7655INFO:tensorflow:Assets written to: .\\Data\\AAPL\\best_model\\model20200415_1724\\assets\n",
      "987/987 [==============================] - 2s 2ms/sample - loss: 0.3079 - accuracy: 0.7710 - f1_metric: 0.7663 - val_loss: 0.3631 - val_accuracy: 0.8421 - val_f1_metric: 0.8700\n",
      "Epoch 30/3000\n",
      "987/987 [==============================] - 1s 882us/sample - loss: 0.3079 - accuracy: 0.7882 - f1_metric: 0.7772 - val_loss: 0.4920 - val_accuracy: 0.7692 - val_f1_metric: 0.7370\n",
      "Epoch 31/3000\n",
      "987/987 [==============================] - 1s 1ms/sample - loss: 0.3104 - accuracy: 0.7913 - f1_metric: 0.7891 - val_loss: 0.5594 - val_accuracy: 0.7409 - val_f1_metric: 0.7081\n",
      "Epoch 32/3000\n",
      "987/987 [==============================] - 1s 1ms/sample - loss: 0.2745 - accuracy: 0.7933 - f1_metric: 0.7938 - val_loss: 0.4920 - val_accuracy: 0.7571 - val_f1_metric: 0.7495\n",
      "Epoch 33/3000\n",
      "987/987 [==============================] - 1s 1ms/sample - loss: 0.2901 - accuracy: 0.8065 - f1_metric: 0.8089 - val_loss: 0.3997 - val_accuracy: 0.8219 - val_f1_metric: 0.8029\n",
      "Epoch 34/3000\n",
      "987/987 [==============================] - 1s 771us/sample - loss: 0.2827 - accuracy: 0.7862 - f1_metric: 0.7864 - val_loss: 0.3861 - val_accuracy: 0.8178 - val_f1_metric: 0.8495\n",
      "Epoch 35/3000\n",
      "987/987 [==============================] - 1s 921us/sample - loss: 0.2938 - accuracy: 0.8146 - f1_metric: 0.8122 - val_loss: 0.4575 - val_accuracy: 0.8016 - val_f1_metric: 0.8110\n",
      "Epoch 36/3000\n",
      "987/987 [==============================] - 1s 801us/sample - loss: 0.2958 - accuracy: 0.7964 - f1_metric: 0.7953 - val_loss: 0.5431 - val_accuracy: 0.7490 - val_f1_metric: 0.7912\n",
      "Epoch 37/3000\n",
      "987/987 [==============================] - 1s 792us/sample - loss: 0.2678 - accuracy: 0.7893 - f1_metric: 0.7849 - val_loss: 0.4535 - val_accuracy: 0.7854 - val_f1_metric: 0.7981\n",
      "Epoch 38/3000\n",
      "987/987 [==============================] - 2s 2ms/sample - loss: 0.2800 - accuracy: 0.7872 - f1_metric: 0.7903 - val_loss: 0.4021 - val_accuracy: 0.8300 - val_f1_metric: 0.8361\n",
      "Epoch 39/3000\n",
      "900/987 [==========================>...] - ETA: 0s - loss: 0.2583 - accuracy: 0.8367 - f1_metric: 0.8358\n",
      "Epoch 00039: ReduceLROnPlateau reducing learning rate to 0.0001.\n",
      "987/987 [==============================] - 1s 935us/sample - loss: 0.2526 - accuracy: 0.8359 - f1_metric: 0.8368 - val_loss: 0.5006 - val_accuracy: 0.7854 - val_f1_metric: 0.8246\n",
      "Epoch 40/3000\n",
      "987/987 [==============================] - 1s 857us/sample - loss: 0.2288 - accuracy: 0.8105 - f1_metric: 0.8102 - val_loss: 0.4318 - val_accuracy: 0.8219 - val_f1_metric: 0.8533\n",
      "Epoch 41/3000\n",
      "987/987 [==============================] - 1s 747us/sample - loss: 0.2318 - accuracy: 0.8288 - f1_metric: 0.8281 - val_loss: 0.3828 - val_accuracy: 0.8178 - val_f1_metric: 0.8500\n",
      "Epoch 42/3000\n",
      "987/987 [==============================] - 1s 807us/sample - loss: 0.2089 - accuracy: 0.8592 - f1_metric: 0.8601 - val_loss: 0.3754 - val_accuracy: 0.8259 - val_f1_metric: 0.8567\n",
      "Epoch 43/3000\n",
      "987/987 [==============================] - 1s 714us/sample - loss: 0.2297 - accuracy: 0.8419 - f1_metric: 0.8397 - val_loss: 0.4061 - val_accuracy: 0.8259 - val_f1_metric: 0.8567\n",
      "Epoch 44/3000\n",
      "987/987 [==============================] - 1s 742us/sample - loss: 0.2015 - accuracy: 0.8440 - f1_metric: 0.8427 - val_loss: 0.3968 - val_accuracy: 0.8300 - val_f1_metric: 0.8600\n",
      "Epoch 45/3000\n",
      "987/987 [==============================] - 1s 751us/sample - loss: 0.1886 - accuracy: 0.8734 - f1_metric: 0.8727 - val_loss: 0.3659 - val_accuracy: 0.8462 - val_f1_metric: 0.8733\n",
      "Epoch 46/3000\n",
      "987/987 [==============================] - 1s 740us/sample - loss: 0.2117 - accuracy: 0.8561 - f1_metric: 0.8517 - val_loss: 0.3675 - val_accuracy: 0.8462 - val_f1_metric: 0.8733\n",
      "Epoch 47/3000\n",
      "987/987 [==============================] - 1s 900us/sample - loss: 0.2082 - accuracy: 0.8612 - f1_metric: 0.8610 - val_loss: 0.3995 - val_accuracy: 0.8340 - val_f1_metric: 0.8633\n",
      "Epoch 48/3000\n",
      "987/987 [==============================] - 1s 760us/sample - loss: 0.1937 - accuracy: 0.8612 - f1_metric: 0.8626 - val_loss: 0.3894 - val_accuracy: 0.8340 - val_f1_metric: 0.8633\n",
      "Epoch 49/3000\n",
      "987/987 [==============================] - 1s 741us/sample - loss: 0.1860 - accuracy: 0.8683 - f1_metric: 0.8688 - val_loss: 0.3695 - val_accuracy: 0.8421 - val_f1_metric: 0.8700\n",
      "Epoch 50/3000\n",
      "987/987 [==============================] - 1s 972us/sample - loss: 0.2024 - accuracy: 0.8764 - f1_metric: 0.8745 - val_loss: 0.3888 - val_accuracy: 0.8219 - val_f1_metric: 0.8533\n",
      "Epoch 51/3000\n",
      "987/987 [==============================] - 1s 1ms/sample - loss: 0.1964 - accuracy: 0.8642 - f1_metric: 0.8621 - val_loss: 0.3936 - val_accuracy: 0.8300 - val_f1_metric: 0.8614\n",
      "Epoch 52/3000\n",
      "987/987 [==============================] - 1s 1ms/sample - loss: 0.1912 - accuracy: 0.8642 - f1_metric: 0.8608 - val_loss: 0.3853 - val_accuracy: 0.8219 - val_f1_metric: 0.8548\n",
      "Epoch 53/3000\n",
      "987/987 [==============================] - 1s 944us/sample - loss: 0.2111 - accuracy: 0.8551 - f1_metric: 0.8554 - val_loss: 0.3888 - val_accuracy: 0.8259 - val_f1_metric: 0.8567\n",
      "Epoch 54/3000\n",
      "987/987 [==============================] - 1s 810us/sample - loss: 0.1811 - accuracy: 0.8794 - f1_metric: 0.8797 - val_loss: 0.3870 - val_accuracy: 0.8462 - val_f1_metric: 0.8733\n",
      "Epoch 55/3000\n",
      "987/987 [==============================] - 1s 806us/sample - loss: 0.1797 - accuracy: 0.8703 - f1_metric: 0.8731 - val_loss: 0.3841 - val_accuracy: 0.8502 - val_f1_metric: 0.8767\n",
      "Epoch 56/3000\n",
      "987/987 [==============================] - 1s 807us/sample - loss: 0.1742 - accuracy: 0.8825 - f1_metric: 0.8867 - val_loss: 0.3635 - val_accuracy: 0.8543 - val_f1_metric: 0.8800\n",
      "Epoch 57/3000\n",
      "987/987 [==============================] - 1s 965us/sample - loss: 0.1877 - accuracy: 0.8835 - f1_metric: 0.8796 - val_loss: 0.3721 - val_accuracy: 0.8543 - val_f1_metric: 0.8800\n",
      "Epoch 58/3000\n",
      "987/987 [==============================] - 1s 889us/sample - loss: 0.1745 - accuracy: 0.8734 - f1_metric: 0.8727 - val_loss: 0.3773 - val_accuracy: 0.8502 - val_f1_metric: 0.8767\n",
      "Epoch 59/3000\n",
      "987/987 [==============================] - 1s 855us/sample - loss: 0.1926 - accuracy: 0.8723 - f1_metric: 0.8694 - val_loss: 0.3788 - val_accuracy: 0.8502 - val_f1_metric: 0.8767\n",
      "Epoch 60/3000\n",
      "960/987 [============================>.] - ETA: 0s - loss: 0.1688 - accuracy: 0.8781 - f1_metric: 0.8785INFO:tensorflow:Assets written to: .\\Data\\AAPL\\best_model\\model20200415_1724\\assets\n",
      "987/987 [==============================] - 3s 3ms/sample - loss: 0.1729 - accuracy: 0.8754 - f1_metric: 0.8725 - val_loss: 0.3561 - val_accuracy: 0.8583 - val_f1_metric: 0.8833\n",
      "Epoch 61/3000\n",
      "987/987 [==============================] - 1s 1ms/sample - loss: 0.1940 - accuracy: 0.8815 - f1_metric: 0.8828 - val_loss: 0.3694 - val_accuracy: 0.8583 - val_f1_metric: 0.8815\n",
      "Epoch 62/3000\n",
      "987/987 [==============================] - 1s 875us/sample - loss: 0.1858 - accuracy: 0.8642 - f1_metric: 0.8637 - val_loss: 0.4170 - val_accuracy: 0.8340 - val_f1_metric: 0.8633\n",
      "Epoch 63/3000\n",
      "987/987 [==============================] - 1s 931us/sample - loss: 0.1728 - accuracy: 0.8683 - f1_metric: 0.8672 - val_loss: 0.3803 - val_accuracy: 0.8381 - val_f1_metric: 0.8667\n",
      "Epoch 64/3000\n",
      "987/987 [==============================] - 1s 1ms/sample - loss: 0.1834 - accuracy: 0.8754 - f1_metric: 0.8770 - val_loss: 0.3980 - val_accuracy: 0.8381 - val_f1_metric: 0.8667\n",
      "Epoch 65/3000\n",
      "987/987 [==============================] - 1s 1ms/sample - loss: 0.1935 - accuracy: 0.8734 - f1_metric: 0.8763 - val_loss: 0.3968 - val_accuracy: 0.8381 - val_f1_metric: 0.8667\n",
      "Epoch 66/3000\n",
      "987/987 [==============================] - 1s 1ms/sample - loss: 0.1842 - accuracy: 0.8713 - f1_metric: 0.8682 - val_loss: 0.3843 - val_accuracy: 0.8462 - val_f1_metric: 0.8733\n",
      "Epoch 67/3000\n",
      "987/987 [==============================] - 1s 855us/sample - loss: 0.1788 - accuracy: 0.8764 - f1_metric: 0.8739 - val_loss: 0.3926 - val_accuracy: 0.8381 - val_f1_metric: 0.8667\n",
      "Epoch 68/3000\n",
      "987/987 [==============================] - 1s 953us/sample - loss: 0.1647 - accuracy: 0.8794 - f1_metric: 0.8768 - val_loss: 0.3878 - val_accuracy: 0.8381 - val_f1_metric: 0.8667\n",
      "Epoch 69/3000\n",
      "987/987 [==============================] - 1s 962us/sample - loss: 0.1902 - accuracy: 0.8744 - f1_metric: 0.8731 - val_loss: 0.3957 - val_accuracy: 0.8421 - val_f1_metric: 0.8715\n",
      "Epoch 70/3000\n",
      "960/987 [============================>.] - ETA: 0s - loss: 0.1508 - accuracy: 0.8917 - f1_metric: 0.8917INFO:tensorflow:Assets written to: .\\Data\\AAPL\\best_model\\model20200415_1724\\assets\n",
      "987/987 [==============================] - 2s 2ms/sample - loss: 0.1544 - accuracy: 0.8916 - f1_metric: 0.8915 - val_loss: 0.3532 - val_accuracy: 0.8502 - val_f1_metric: 0.8767\n",
      "Epoch 71/3000\n",
      "987/987 [==============================] - 1s 915us/sample - loss: 0.1827 - accuracy: 0.8855 - f1_metric: 0.8844 - val_loss: 0.3786 - val_accuracy: 0.8421 - val_f1_metric: 0.8700\n",
      "Epoch 72/3000\n",
      "987/987 [==============================] - 1s 1ms/sample - loss: 0.1757 - accuracy: 0.8764 - f1_metric: 0.8784 - val_loss: 0.3910 - val_accuracy: 0.8421 - val_f1_metric: 0.8700\n"
     ]
    },
    {
     "name": "stdout",
     "output_type": "stream",
     "text": [
      "Epoch 73/3000\n",
      "987/987 [==============================] - 1s 865us/sample - loss: 0.1846 - accuracy: 0.8926 - f1_metric: 0.8929 - val_loss: 0.3982 - val_accuracy: 0.8381 - val_f1_metric: 0.8667\n",
      "Epoch 74/3000\n",
      "987/987 [==============================] - 1s 902us/sample - loss: 0.1786 - accuracy: 0.8754 - f1_metric: 0.8763 - val_loss: 0.4050 - val_accuracy: 0.8381 - val_f1_metric: 0.8667\n",
      "Epoch 75/3000\n",
      "987/987 [==============================] - 1s 942us/sample - loss: 0.1488 - accuracy: 0.8875 - f1_metric: 0.8882 - val_loss: 0.3580 - val_accuracy: 0.8583 - val_f1_metric: 0.8833\n",
      "Epoch 76/3000\n",
      "987/987 [==============================] - 1s 949us/sample - loss: 0.1625 - accuracy: 0.9078 - f1_metric: 0.9084 - val_loss: 0.3611 - val_accuracy: 0.8543 - val_f1_metric: 0.8800\n",
      "Epoch 77/3000\n",
      "987/987 [==============================] - 1s 954us/sample - loss: 0.1806 - accuracy: 0.8886 - f1_metric: 0.8886 - val_loss: 0.4078 - val_accuracy: 0.8421 - val_f1_metric: 0.8700\n",
      "Epoch 78/3000\n",
      "987/987 [==============================] - 1s 1ms/sample - loss: 0.1781 - accuracy: 0.8683 - f1_metric: 0.8700 - val_loss: 0.4119 - val_accuracy: 0.8381 - val_f1_metric: 0.8667\n",
      "Epoch 79/3000\n",
      "987/987 [==============================] - 1s 841us/sample - loss: 0.1680 - accuracy: 0.8926 - f1_metric: 0.8919 - val_loss: 0.3747 - val_accuracy: 0.8543 - val_f1_metric: 0.8800\n",
      "Epoch 80/3000\n",
      "987/987 [==============================] - 1s 854us/sample - loss: 0.1625 - accuracy: 0.8896 - f1_metric: 0.8900 - val_loss: 0.3728 - val_accuracy: 0.8462 - val_f1_metric: 0.8733\n",
      "Epoch 81/3000\n",
      "987/987 [==============================] - 1s 993us/sample - loss: 0.1586 - accuracy: 0.8906 - f1_metric: 0.8912 - val_loss: 0.3767 - val_accuracy: 0.8502 - val_f1_metric: 0.8767\n",
      "Epoch 82/3000\n",
      "987/987 [==============================] - 1s 993us/sample - loss: 0.1659 - accuracy: 0.8926 - f1_metric: 0.8937 - val_loss: 0.3704 - val_accuracy: 0.8543 - val_f1_metric: 0.8800\n",
      "Epoch 83/3000\n",
      "987/987 [==============================] - 1s 881us/sample - loss: 0.1797 - accuracy: 0.8855 - f1_metric: 0.8868 - val_loss: 0.3992 - val_accuracy: 0.8421 - val_f1_metric: 0.8700\n",
      "Epoch 84/3000\n",
      "987/987 [==============================] - 1s 1ms/sample - loss: 0.1827 - accuracy: 0.8815 - f1_metric: 0.8817 - val_loss: 0.4041 - val_accuracy: 0.8462 - val_f1_metric: 0.8733\n",
      "Epoch 85/3000\n",
      "987/987 [==============================] - 1s 1ms/sample - loss: 0.1661 - accuracy: 0.8815 - f1_metric: 0.8782 - val_loss: 0.3975 - val_accuracy: 0.8462 - val_f1_metric: 0.8733\n",
      "Epoch 86/3000\n",
      "987/987 [==============================] - 1s 931us/sample - loss: 0.1598 - accuracy: 0.8865 - f1_metric: 0.8854 - val_loss: 0.3723 - val_accuracy: 0.8583 - val_f1_metric: 0.8833\n",
      "Epoch 87/3000\n",
      "987/987 [==============================] - 1s 861us/sample - loss: 0.1499 - accuracy: 0.8987 - f1_metric: 0.8984 - val_loss: 0.3617 - val_accuracy: 0.8583 - val_f1_metric: 0.8833\n",
      "Epoch 88/3000\n",
      "987/987 [==============================] - 1s 1ms/sample - loss: 0.1544 - accuracy: 0.8946 - f1_metric: 0.8967 - val_loss: 0.3579 - val_accuracy: 0.8583 - val_f1_metric: 0.8833\n",
      "Epoch 89/3000\n",
      "987/987 [==============================] - 1s 1ms/sample - loss: 0.1527 - accuracy: 0.9037 - f1_metric: 0.9045 - val_loss: 0.3724 - val_accuracy: 0.8462 - val_f1_metric: 0.8733\n",
      "Epoch 90/3000\n",
      "987/987 [==============================] - 1s 868us/sample - loss: 0.1821 - accuracy: 0.8784 - f1_metric: 0.8758 - val_loss: 0.3995 - val_accuracy: 0.8462 - val_f1_metric: 0.8733\n",
      "Epoch 91/3000\n",
      "987/987 [==============================] - 1s 1ms/sample - loss: 0.1678 - accuracy: 0.8845 - f1_metric: 0.8834 - val_loss: 0.3964 - val_accuracy: 0.8543 - val_f1_metric: 0.8800\n",
      "Epoch 92/3000\n",
      "987/987 [==============================] - 1s 1ms/sample - loss: 0.1516 - accuracy: 0.8855 - f1_metric: 0.8892 - val_loss: 0.3679 - val_accuracy: 0.8583 - val_f1_metric: 0.8833\n",
      "Epoch 93/3000\n",
      "987/987 [==============================] - 1s 905us/sample - loss: 0.1652 - accuracy: 0.8956 - f1_metric: 0.8966 - val_loss: 0.3657 - val_accuracy: 0.8583 - val_f1_metric: 0.8833\n",
      "Epoch 94/3000\n",
      "987/987 [==============================] - 1s 1ms/sample - loss: 0.1731 - accuracy: 0.8916 - f1_metric: 0.8902 - val_loss: 0.3816 - val_accuracy: 0.8462 - val_f1_metric: 0.8733\n",
      "Epoch 95/3000\n",
      "987/987 [==============================] - 1s 942us/sample - loss: 0.1586 - accuracy: 0.8936 - f1_metric: 0.8923 - val_loss: 0.3917 - val_accuracy: 0.8421 - val_f1_metric: 0.8700\n",
      "Epoch 96/3000\n",
      "987/987 [==============================] - 1s 915us/sample - loss: 0.1742 - accuracy: 0.8825 - f1_metric: 0.8831 - val_loss: 0.3928 - val_accuracy: 0.8462 - val_f1_metric: 0.8733\n",
      "Epoch 97/3000\n",
      "987/987 [==============================] - 1s 737us/sample - loss: 0.1672 - accuracy: 0.8886 - f1_metric: 0.8902 - val_loss: 0.4122 - val_accuracy: 0.8381 - val_f1_metric: 0.8667\n",
      "Epoch 98/3000\n",
      "987/987 [==============================] - 1s 850us/sample - loss: 0.1500 - accuracy: 0.8916 - f1_metric: 0.8927 - val_loss: 0.3836 - val_accuracy: 0.8381 - val_f1_metric: 0.8667\n",
      "Epoch 99/3000\n",
      "900/987 [==========================>...] - ETA: 0s - loss: 0.1301 - accuracy: 0.9133 - f1_metric: 0.9133INFO:tensorflow:Assets written to: .\\Data\\AAPL\\best_model\\model20200415_1724\\assets\n",
      "987/987 [==============================] - 2s 2ms/sample - loss: 0.1332 - accuracy: 0.9129 - f1_metric: 0.9133 - val_loss: 0.3373 - val_accuracy: 0.8583 - val_f1_metric: 0.8833\n",
      "Epoch 100/3000\n",
      "987/987 [==============================] - 1s 724us/sample - loss: 0.1710 - accuracy: 0.9119 - f1_metric: 0.9087 - val_loss: 0.3744 - val_accuracy: 0.8421 - val_f1_metric: 0.8700\n",
      "Epoch 101/3000\n",
      "987/987 [==============================] - 1s 734us/sample - loss: 0.1440 - accuracy: 0.8956 - f1_metric: 0.8937 - val_loss: 0.3762 - val_accuracy: 0.8421 - val_f1_metric: 0.8700\n",
      "Epoch 102/3000\n",
      "987/987 [==============================] - 1s 736us/sample - loss: 0.1566 - accuracy: 0.9037 - f1_metric: 0.9039 - val_loss: 0.3837 - val_accuracy: 0.8421 - val_f1_metric: 0.8700\n",
      "Epoch 103/3000\n",
      "987/987 [==============================] - 1s 723us/sample - loss: 0.1591 - accuracy: 0.8865 - f1_metric: 0.8866 - val_loss: 0.3739 - val_accuracy: 0.8502 - val_f1_metric: 0.8767\n",
      "Epoch 104/3000\n",
      "987/987 [==============================] - 1s 721us/sample - loss: 0.1473 - accuracy: 0.8946 - f1_metric: 0.8961 - val_loss: 0.3711 - val_accuracy: 0.8543 - val_f1_metric: 0.8800\n",
      "Epoch 105/3000\n",
      "987/987 [==============================] - 1s 719us/sample - loss: 0.1493 - accuracy: 0.8987 - f1_metric: 0.9000 - val_loss: 0.3578 - val_accuracy: 0.8583 - val_f1_metric: 0.8833\n",
      "Epoch 106/3000\n",
      "987/987 [==============================] - 1s 780us/sample - loss: 0.1457 - accuracy: 0.9037 - f1_metric: 0.9021 - val_loss: 0.3678 - val_accuracy: 0.8543 - val_f1_metric: 0.8800\n",
      "Epoch 107/3000\n",
      "987/987 [==============================] - 1s 744us/sample - loss: 0.1545 - accuracy: 0.8977 - f1_metric: 0.8993 - val_loss: 0.3748 - val_accuracy: 0.8421 - val_f1_metric: 0.8700\n",
      "Epoch 108/3000\n",
      "987/987 [==============================] - 1s 718us/sample - loss: 0.1524 - accuracy: 0.8875 - f1_metric: 0.8864 - val_loss: 0.3981 - val_accuracy: 0.8502 - val_f1_metric: 0.8767\n",
      "Epoch 109/3000\n",
      "987/987 [==============================] - 1s 722us/sample - loss: 0.1509 - accuracy: 0.8977 - f1_metric: 0.8980 - val_loss: 0.3730 - val_accuracy: 0.8462 - val_f1_metric: 0.8733\n",
      "Epoch 110/3000\n",
      "987/987 [==============================] - 1s 714us/sample - loss: 0.1579 - accuracy: 0.9088 - f1_metric: 0.9082 - val_loss: 0.3663 - val_accuracy: 0.8462 - val_f1_metric: 0.8733\n",
      "Epoch 111/3000\n",
      "987/987 [==============================] - 1s 719us/sample - loss: 0.1534 - accuracy: 0.8926 - f1_metric: 0.8919 - val_loss: 0.3799 - val_accuracy: 0.8462 - val_f1_metric: 0.8733\n",
      "Epoch 112/3000\n",
      "987/987 [==============================] - 1s 719us/sample - loss: 0.1480 - accuracy: 0.8956 - f1_metric: 0.8966 - val_loss: 0.3780 - val_accuracy: 0.8421 - val_f1_metric: 0.8700\n",
      "Epoch 113/3000\n",
      "987/987 [==============================] - 1s 721us/sample - loss: 0.1577 - accuracy: 0.9068 - f1_metric: 0.9062 - val_loss: 0.3775 - val_accuracy: 0.8340 - val_f1_metric: 0.8633\n",
      "Epoch 114/3000\n",
      "987/987 [==============================] - 1s 729us/sample - loss: 0.1405 - accuracy: 0.9048 - f1_metric: 0.9066 - val_loss: 0.3700 - val_accuracy: 0.8381 - val_f1_metric: 0.8667\n",
      "Epoch 115/3000\n",
      "987/987 [==============================] - 1s 721us/sample - loss: 0.1555 - accuracy: 0.9058 - f1_metric: 0.9040 - val_loss: 0.3707 - val_accuracy: 0.8421 - val_f1_metric: 0.8700\n",
      "Epoch 116/3000\n",
      "987/987 [==============================] - 1s 722us/sample - loss: 0.1437 - accuracy: 0.8956 - f1_metric: 0.8954 - val_loss: 0.3747 - val_accuracy: 0.8421 - val_f1_metric: 0.8700\n",
      "Epoch 117/3000\n",
      "987/987 [==============================] - 1s 728us/sample - loss: 0.1500 - accuracy: 0.8997 - f1_metric: 0.9029 - val_loss: 0.3647 - val_accuracy: 0.8462 - val_f1_metric: 0.8733\n",
      "Epoch 118/3000\n",
      "987/987 [==============================] - 1s 717us/sample - loss: 0.1770 - accuracy: 0.8987 - f1_metric: 0.8982 - val_loss: 0.4130 - val_accuracy: 0.8462 - val_f1_metric: 0.8748\n",
      "Epoch 119/3000\n",
      "987/987 [==============================] - 1s 735us/sample - loss: 0.1545 - accuracy: 0.8734 - f1_metric: 0.8731 - val_loss: 0.3762 - val_accuracy: 0.8502 - val_f1_metric: 0.8767\n",
      "Epoch 120/3000\n",
      "987/987 [==============================] - 1s 730us/sample - loss: 0.1508 - accuracy: 0.9017 - f1_metric: 0.9013 - val_loss: 0.3742 - val_accuracy: 0.8462 - val_f1_metric: 0.8733\n",
      "Epoch 121/3000\n",
      "987/987 [==============================] - 1s 726us/sample - loss: 0.1319 - accuracy: 0.9068 - f1_metric: 0.9050 - val_loss: 0.3559 - val_accuracy: 0.8543 - val_f1_metric: 0.8800\n",
      "Epoch 122/3000\n",
      "987/987 [==============================] - 1s 718us/sample - loss: 0.1575 - accuracy: 0.9098 - f1_metric: 0.9115 - val_loss: 0.3762 - val_accuracy: 0.8421 - val_f1_metric: 0.8700\n",
      "Epoch 123/3000\n",
      "987/987 [==============================] - 1s 718us/sample - loss: 0.1370 - accuracy: 0.8946 - f1_metric: 0.8956 - val_loss: 0.3944 - val_accuracy: 0.8421 - val_f1_metric: 0.8700\n",
      "Epoch 124/3000\n",
      "987/987 [==============================] - 1s 723us/sample - loss: 0.1388 - accuracy: 0.8977 - f1_metric: 0.8998 - val_loss: 0.3582 - val_accuracy: 0.8543 - val_f1_metric: 0.8800\n",
      "Epoch 125/3000\n",
      "987/987 [==============================] - 1s 712us/sample - loss: 0.1407 - accuracy: 0.9230 - f1_metric: 0.9231 - val_loss: 0.3565 - val_accuracy: 0.8623 - val_f1_metric: 0.8867\n",
      "Epoch 126/3000\n",
      "987/987 [==============================] - 1s 720us/sample - loss: 0.1732 - accuracy: 0.8956 - f1_metric: 0.8966 - val_loss: 0.3975 - val_accuracy: 0.8381 - val_f1_metric: 0.8667\n",
      "Epoch 127/3000\n",
      "987/987 [==============================] - 1s 772us/sample - loss: 0.1495 - accuracy: 0.9098 - f1_metric: 0.9115 - val_loss: 0.3882 - val_accuracy: 0.8543 - val_f1_metric: 0.8800\n",
      "Epoch 128/3000\n",
      "987/987 [==============================] - 1s 763us/sample - loss: 0.1453 - accuracy: 0.8926 - f1_metric: 0.8917 - val_loss: 0.3743 - val_accuracy: 0.8502 - val_f1_metric: 0.8767\n",
      "Epoch 129/3000\n",
      "987/987 [==============================] - 1s 734us/sample - loss: 0.1404 - accuracy: 0.9068 - f1_metric: 0.9086 - val_loss: 0.3565 - val_accuracy: 0.8583 - val_f1_metric: 0.8833\n",
      "Epoch 130/3000\n",
      "987/987 [==============================] - 1s 763us/sample - loss: 0.1339 - accuracy: 0.9108 - f1_metric: 0.9120 - val_loss: 0.3768 - val_accuracy: 0.8462 - val_f1_metric: 0.8733\n",
      "Epoch 131/3000\n",
      "987/987 [==============================] - 1s 769us/sample - loss: 0.1256 - accuracy: 0.9210 - f1_metric: 0.9211 - val_loss: 0.3642 - val_accuracy: 0.8421 - val_f1_metric: 0.8700\n",
      "Epoch 132/3000\n",
      "987/987 [==============================] - 1s 768us/sample - loss: 0.1287 - accuracy: 0.9129 - f1_metric: 0.9157 - val_loss: 0.3657 - val_accuracy: 0.8502 - val_f1_metric: 0.8767\n",
      "Epoch 133/3000\n",
      "987/987 [==============================] - 1s 727us/sample - loss: 0.1312 - accuracy: 0.9088 - f1_metric: 0.9106 - val_loss: 0.3836 - val_accuracy: 0.8462 - val_f1_metric: 0.8733\n",
      "Epoch 134/3000\n",
      "987/987 [==============================] - 1s 739us/sample - loss: 0.1388 - accuracy: 0.9098 - f1_metric: 0.9127 - val_loss: 0.3879 - val_accuracy: 0.8421 - val_f1_metric: 0.8700\n",
      "Epoch 135/3000\n",
      "987/987 [==============================] - 1s 736us/sample - loss: 0.1231 - accuracy: 0.9169 - f1_metric: 0.9176 - val_loss: 0.3557 - val_accuracy: 0.8583 - val_f1_metric: 0.8833\n",
      "Epoch 136/3000\n",
      "987/987 [==============================] - 1s 729us/sample - loss: 0.1366 - accuracy: 0.9240 - f1_metric: 0.9229 - val_loss: 0.3708 - val_accuracy: 0.8543 - val_f1_metric: 0.8800\n",
      "Epoch 137/3000\n",
      "987/987 [==============================] - 1s 722us/sample - loss: 0.1348 - accuracy: 0.9179 - f1_metric: 0.9194 - val_loss: 0.3661 - val_accuracy: 0.8583 - val_f1_metric: 0.8833\n",
      "Epoch 138/3000\n",
      "987/987 [==============================] - 1s 748us/sample - loss: 0.1394 - accuracy: 0.9139 - f1_metric: 0.9131 - val_loss: 0.3643 - val_accuracy: 0.8583 - val_f1_metric: 0.8833\n",
      "Epoch 139/3000\n",
      "987/987 [==============================] - 1s 718us/sample - loss: 0.1219 - accuracy: 0.9230 - f1_metric: 0.9212 - val_loss: 0.3646 - val_accuracy: 0.8583 - val_f1_metric: 0.8833\n",
      "Epoch 140/3000\n",
      "987/987 [==============================] - 1s 716us/sample - loss: 0.1363 - accuracy: 0.9119 - f1_metric: 0.9135 - val_loss: 0.3591 - val_accuracy: 0.8583 - val_f1_metric: 0.8833\n",
      "Epoch 141/3000\n",
      "987/987 [==============================] - 1s 727us/sample - loss: 0.1206 - accuracy: 0.9149 - f1_metric: 0.9181 - val_loss: 0.3722 - val_accuracy: 0.8543 - val_f1_metric: 0.8800\n",
      "Epoch 142/3000\n",
      "987/987 [==============================] - 1s 862us/sample - loss: 0.1421 - accuracy: 0.9139 - f1_metric: 0.9131 - val_loss: 0.3670 - val_accuracy: 0.8502 - val_f1_metric: 0.8767\n",
      "Epoch 143/3000\n",
      "987/987 [==============================] - 1s 736us/sample - loss: 0.1377 - accuracy: 0.9119 - f1_metric: 0.9111 - val_loss: 0.3965 - val_accuracy: 0.8462 - val_f1_metric: 0.8715\n",
      "Epoch 144/3000\n",
      "987/987 [==============================] - 1s 763us/sample - loss: 0.1360 - accuracy: 0.9048 - f1_metric: 0.9059 - val_loss: 0.3859 - val_accuracy: 0.8462 - val_f1_metric: 0.8733\n",
      "Epoch 145/3000\n",
      "987/987 [==============================] - 1s 729us/sample - loss: 0.1507 - accuracy: 0.9068 - f1_metric: 0.9050 - val_loss: 0.4055 - val_accuracy: 0.8462 - val_f1_metric: 0.8733\n",
      "Epoch 146/3000\n",
      "987/987 [==============================] - 1s 734us/sample - loss: 0.1377 - accuracy: 0.8916 - f1_metric: 0.8915 - val_loss: 0.3878 - val_accuracy: 0.8583 - val_f1_metric: 0.8833\n",
      "Epoch 147/3000\n",
      "987/987 [==============================] - 1s 909us/sample - loss: 0.1403 - accuracy: 0.9159 - f1_metric: 0.9186 - val_loss: 0.3865 - val_accuracy: 0.8543 - val_f1_metric: 0.8800\n",
      "Epoch 148/3000\n",
      "987/987 [==============================] - 1s 804us/sample - loss: 0.1352 - accuracy: 0.9058 - f1_metric: 0.9040 - val_loss: 0.3841 - val_accuracy: 0.8583 - val_f1_metric: 0.8833\n",
      "Epoch 149/3000\n",
      "987/987 [==============================] - 1s 733us/sample - loss: 0.1346 - accuracy: 0.9139 - f1_metric: 0.9143 - val_loss: 0.3597 - val_accuracy: 0.8583 - val_f1_metric: 0.8833\n",
      "Epoch 150/3000\n",
      "987/987 [==============================] - 1s 809us/sample - loss: 0.1376 - accuracy: 0.9129 - f1_metric: 0.9157 - val_loss: 0.3595 - val_accuracy: 0.8583 - val_f1_metric: 0.8833\n",
      "Epoch 151/3000\n",
      "987/987 [==============================] - 1s 730us/sample - loss: 0.1303 - accuracy: 0.9210 - f1_metric: 0.9223 - val_loss: 0.3813 - val_accuracy: 0.8543 - val_f1_metric: 0.8800\n",
      "Epoch 152/3000\n",
      "987/987 [==============================] - 1s 728us/sample - loss: 0.1330 - accuracy: 0.9119 - f1_metric: 0.9142 - val_loss: 0.3912 - val_accuracy: 0.8543 - val_f1_metric: 0.8800\n",
      "Epoch 153/3000\n",
      "987/987 [==============================] - 1s 964us/sample - loss: 0.1433 - accuracy: 0.9048 - f1_metric: 0.9054 - val_loss: 0.3899 - val_accuracy: 0.8583 - val_f1_metric: 0.8833\n",
      "Epoch 154/3000\n",
      "987/987 [==============================] - 1s 739us/sample - loss: 0.1223 - accuracy: 0.9179 - f1_metric: 0.9177 - val_loss: 0.3744 - val_accuracy: 0.8623 - val_f1_metric: 0.8867\n",
      "Epoch 155/3000\n",
      "987/987 [==============================] - 1s 732us/sample - loss: 0.1074 - accuracy: 0.9301 - f1_metric: 0.9276 - val_loss: 0.3537 - val_accuracy: 0.8623 - val_f1_metric: 0.8867\n",
      "Epoch 156/3000\n"
     ]
    },
    {
     "name": "stdout",
     "output_type": "stream",
     "text": [
      "987/987 [==============================] - 1s 733us/sample - loss: 0.1372 - accuracy: 0.9271 - f1_metric: 0.9282 - val_loss: 0.3796 - val_accuracy: 0.8583 - val_f1_metric: 0.8833\n",
      "Epoch 157/3000\n",
      "987/987 [==============================] - 1s 739us/sample - loss: 0.1302 - accuracy: 0.9119 - f1_metric: 0.9106 - val_loss: 0.3835 - val_accuracy: 0.8543 - val_f1_metric: 0.8800\n",
      "Epoch 158/3000\n",
      "987/987 [==============================] - 1s 728us/sample - loss: 0.1139 - accuracy: 0.9179 - f1_metric: 0.9206 - val_loss: 0.3697 - val_accuracy: 0.8623 - val_f1_metric: 0.8867\n",
      "Epoch 159/3000\n",
      "987/987 [==============================] - 1s 728us/sample - loss: 0.1261 - accuracy: 0.9281 - f1_metric: 0.9292 - val_loss: 0.3664 - val_accuracy: 0.8623 - val_f1_metric: 0.8867\n",
      "Epoch 160/3000\n",
      "987/987 [==============================] - 1s 717us/sample - loss: 0.1322 - accuracy: 0.9108 - f1_metric: 0.9137 - val_loss: 0.3825 - val_accuracy: 0.8623 - val_f1_metric: 0.8867\n",
      "Epoch 161/3000\n",
      "987/987 [==============================] - 1s 735us/sample - loss: 0.1287 - accuracy: 0.9098 - f1_metric: 0.9080 - val_loss: 0.3844 - val_accuracy: 0.8502 - val_f1_metric: 0.8767\n",
      "Epoch 162/3000\n",
      "987/987 [==============================] - 1s 733us/sample - loss: 0.1200 - accuracy: 0.9200 - f1_metric: 0.9225 - val_loss: 0.3710 - val_accuracy: 0.8623 - val_f1_metric: 0.8867\n",
      "Epoch 163/3000\n",
      "987/987 [==============================] - 1s 720us/sample - loss: 0.1089 - accuracy: 0.9331 - f1_metric: 0.9353 - val_loss: 0.3672 - val_accuracy: 0.8583 - val_f1_metric: 0.8833\n",
      "Epoch 164/3000\n",
      "987/987 [==============================] - 1s 719us/sample - loss: 0.1370 - accuracy: 0.9179 - f1_metric: 0.9194 - val_loss: 0.3842 - val_accuracy: 0.8543 - val_f1_metric: 0.8800\n",
      "Epoch 165/3000\n",
      "987/987 [==============================] - 1s 740us/sample - loss: 0.1283 - accuracy: 0.9007 - f1_metric: 0.9003 - val_loss: 0.3764 - val_accuracy: 0.8543 - val_f1_metric: 0.8800\n",
      "Epoch 166/3000\n",
      "987/987 [==============================] - 1s 731us/sample - loss: 0.1125 - accuracy: 0.9240 - f1_metric: 0.9241 - val_loss: 0.3461 - val_accuracy: 0.8583 - val_f1_metric: 0.8833\n",
      "Epoch 167/3000\n",
      "987/987 [==============================] - 1s 721us/sample - loss: 0.1063 - accuracy: 0.9240 - f1_metric: 0.9245 - val_loss: 0.3582 - val_accuracy: 0.8623 - val_f1_metric: 0.8867\n",
      "Epoch 168/3000\n",
      "987/987 [==============================] - 1s 725us/sample - loss: 0.1407 - accuracy: 0.9179 - f1_metric: 0.9182 - val_loss: 0.3855 - val_accuracy: 0.8583 - val_f1_metric: 0.8816\n",
      "Epoch 169/3000\n",
      "987/987 [==============================] - 1s 734us/sample - loss: 0.1254 - accuracy: 0.9037 - f1_metric: 0.9039 - val_loss: 0.3752 - val_accuracy: 0.8543 - val_f1_metric: 0.8800\n",
      "Epoch 170/3000\n",
      "987/987 [==============================] - 1s 733us/sample - loss: 0.1349 - accuracy: 0.9179 - f1_metric: 0.9182 - val_loss: 0.3877 - val_accuracy: 0.8502 - val_f1_metric: 0.8767\n",
      "Epoch 171/3000\n",
      "987/987 [==============================] - 1s 732us/sample - loss: 0.1160 - accuracy: 0.9149 - f1_metric: 0.9164 - val_loss: 0.3697 - val_accuracy: 0.8623 - val_f1_metric: 0.8867\n",
      "Epoch 172/3000\n",
      "987/987 [==============================] - 1s 727us/sample - loss: 0.1130 - accuracy: 0.9250 - f1_metric: 0.9255 - val_loss: 0.3733 - val_accuracy: 0.8623 - val_f1_metric: 0.8867\n",
      "Epoch 173/3000\n",
      "987/987 [==============================] - 1s 736us/sample - loss: 0.1382 - accuracy: 0.9169 - f1_metric: 0.9148 - val_loss: 0.4046 - val_accuracy: 0.8583 - val_f1_metric: 0.8833\n",
      "Epoch 174/3000\n",
      "987/987 [==============================] - 1s 736us/sample - loss: 0.1190 - accuracy: 0.9179 - f1_metric: 0.9189 - val_loss: 0.3820 - val_accuracy: 0.8583 - val_f1_metric: 0.8833\n",
      "Epoch 175/3000\n",
      "987/987 [==============================] - 1s 869us/sample - loss: 0.1097 - accuracy: 0.9331 - f1_metric: 0.9329 - val_loss: 0.3864 - val_accuracy: 0.8583 - val_f1_metric: 0.8833\n",
      "Epoch 176/3000\n",
      "987/987 [==============================] - 1s 741us/sample - loss: 0.1123 - accuracy: 0.9291 - f1_metric: 0.9278 - val_loss: 0.3908 - val_accuracy: 0.8462 - val_f1_metric: 0.8733\n",
      "Epoch 177/3000\n",
      "987/987 [==============================] - 1s 749us/sample - loss: 0.1209 - accuracy: 0.9169 - f1_metric: 0.9172 - val_loss: 0.4154 - val_accuracy: 0.8543 - val_f1_metric: 0.8800\n",
      "Epoch 178/3000\n",
      "987/987 [==============================] - 1s 743us/sample - loss: 0.1074 - accuracy: 0.9250 - f1_metric: 0.9251 - val_loss: 0.3740 - val_accuracy: 0.8623 - val_f1_metric: 0.8867\n",
      "Epoch 179/3000\n",
      "987/987 [==============================] - 1s 739us/sample - loss: 0.1179 - accuracy: 0.9311 - f1_metric: 0.9309 - val_loss: 0.3786 - val_accuracy: 0.8583 - val_f1_metric: 0.8833\n",
      "Epoch 180/3000\n",
      "987/987 [==============================] - 1s 731us/sample - loss: 0.1142 - accuracy: 0.9352 - f1_metric: 0.9361 - val_loss: 0.3901 - val_accuracy: 0.8583 - val_f1_metric: 0.8833\n",
      "Epoch 181/3000\n",
      "987/987 [==============================] - 1s 730us/sample - loss: 0.1186 - accuracy: 0.9230 - f1_metric: 0.9243 - val_loss: 0.3849 - val_accuracy: 0.8543 - val_f1_metric: 0.8800\n",
      "Epoch 182/3000\n",
      "987/987 [==============================] - 1s 727us/sample - loss: 0.1055 - accuracy: 0.9260 - f1_metric: 0.9248 - val_loss: 0.3737 - val_accuracy: 0.8623 - val_f1_metric: 0.8867\n",
      "Epoch 183/3000\n",
      "987/987 [==============================] - 1s 727us/sample - loss: 0.1058 - accuracy: 0.9321 - f1_metric: 0.9331 - val_loss: 0.3754 - val_accuracy: 0.8623 - val_f1_metric: 0.8867\n",
      "Epoch 184/3000\n",
      "987/987 [==============================] - 1s 731us/sample - loss: 0.1057 - accuracy: 0.9321 - f1_metric: 0.9343 - val_loss: 0.3762 - val_accuracy: 0.8583 - val_f1_metric: 0.8833\n",
      "Epoch 185/3000\n",
      "987/987 [==============================] - 1s 726us/sample - loss: 0.1112 - accuracy: 0.9281 - f1_metric: 0.9280 - val_loss: 0.3742 - val_accuracy: 0.8623 - val_f1_metric: 0.8867\n",
      "Epoch 186/3000\n",
      "987/987 [==============================] - 1s 741us/sample - loss: 0.0976 - accuracy: 0.9352 - f1_metric: 0.9349 - val_loss: 0.3748 - val_accuracy: 0.8704 - val_f1_metric: 0.8933\n",
      "Epoch 187/3000\n",
      "987/987 [==============================] - 1s 734us/sample - loss: 0.1175 - accuracy: 0.9281 - f1_metric: 0.9268 - val_loss: 0.3713 - val_accuracy: 0.8623 - val_f1_metric: 0.8867\n",
      "Epoch 188/3000\n",
      "987/987 [==============================] - 1s 727us/sample - loss: 0.1255 - accuracy: 0.9230 - f1_metric: 0.9255 - val_loss: 0.3874 - val_accuracy: 0.8583 - val_f1_metric: 0.8833\n",
      "Epoch 189/3000\n",
      "987/987 [==============================] - 1s 730us/sample - loss: 0.1236 - accuracy: 0.9169 - f1_metric: 0.9172 - val_loss: 0.3914 - val_accuracy: 0.8623 - val_f1_metric: 0.8867\n",
      "Epoch 190/3000\n",
      "987/987 [==============================] - 1s 729us/sample - loss: 0.1046 - accuracy: 0.9149 - f1_metric: 0.9141 - val_loss: 0.3712 - val_accuracy: 0.8623 - val_f1_metric: 0.8867\n",
      "Epoch 191/3000\n",
      "987/987 [==============================] - 1s 728us/sample - loss: 0.1307 - accuracy: 0.9189 - f1_metric: 0.9192 - val_loss: 0.3793 - val_accuracy: 0.8583 - val_f1_metric: 0.8833\n",
      "Epoch 192/3000\n",
      "987/987 [==============================] - 1s 771us/sample - loss: 0.1091 - accuracy: 0.9341 - f1_metric: 0.9315 - val_loss: 0.3675 - val_accuracy: 0.8623 - val_f1_metric: 0.8867\n",
      "Epoch 193/3000\n",
      "987/987 [==============================] - 1s 722us/sample - loss: 0.1170 - accuracy: 0.9240 - f1_metric: 0.9253 - val_loss: 0.3732 - val_accuracy: 0.8583 - val_f1_metric: 0.8833\n",
      "Epoch 194/3000\n",
      "987/987 [==============================] - 1s 744us/sample - loss: 0.1088 - accuracy: 0.9250 - f1_metric: 0.9239 - val_loss: 0.3932 - val_accuracy: 0.8583 - val_f1_metric: 0.8833\n",
      "Epoch 195/3000\n",
      "987/987 [==============================] - 1s 727us/sample - loss: 0.1146 - accuracy: 0.9250 - f1_metric: 0.9263 - val_loss: 0.3814 - val_accuracy: 0.8623 - val_f1_metric: 0.8867\n",
      "Epoch 196/3000\n",
      "987/987 [==============================] - 1s 728us/sample - loss: 0.1033 - accuracy: 0.9301 - f1_metric: 0.9276 - val_loss: 0.3988 - val_accuracy: 0.8583 - val_f1_metric: 0.8833\n",
      "Epoch 197/3000\n",
      "987/987 [==============================] - 1s 729us/sample - loss: 0.1234 - accuracy: 0.9200 - f1_metric: 0.9214 - val_loss: 0.3899 - val_accuracy: 0.8623 - val_f1_metric: 0.8867\n",
      "Epoch 198/3000\n",
      "987/987 [==============================] - 1s 734us/sample - loss: 0.1050 - accuracy: 0.9281 - f1_metric: 0.9292 - val_loss: 0.3824 - val_accuracy: 0.8664 - val_f1_metric: 0.8900\n",
      "Epoch 199/3000\n",
      "987/987 [==============================] - 1s 727us/sample - loss: 0.1102 - accuracy: 0.9250 - f1_metric: 0.9239 - val_loss: 0.3763 - val_accuracy: 0.8664 - val_f1_metric: 0.8900\n",
      "Epoch 00199: early stopping\n"
     ]
    }
   ],
   "source": [
    "history = model.fit(x_train, y_train, epochs=params['epochs'], verbose=1,\n",
    "                    batch_size=params['batch_size'], shuffle=True,\n",
    "                    validation_data=(x_cv, y_cv),\n",
    "                    callbacks=[es, mcp, rlp], \n",
    "                    sample_weight=train_class_weights)"
   ]
  },
  {
   "cell_type": "code",
   "execution_count": 19,
   "metadata": {
    "ExecuteTime": {
     "end_time": "2020-04-15T21:28:04.729076Z",
     "start_time": "2020-04-15T21:28:04.506667Z"
    }
   },
   "outputs": [
    {
     "data": {
      "image/png": "[encoded data removed]",
      "text/plain": [
       "<Figure size 640x480 with 1 Axes>"
      ]
     },
     "metadata": {
      "needs_background": "light"
     },
     "output_type": "display_data"
    }
   ],
   "source": [
    "plot_history(history)\n",
    "plt.show()"
   ]
  },
  {
   "cell_type": "markdown",
   "metadata": {
    "ExecuteTime": {
     "end_time": "2020-04-14T18:02:30.141456Z",
     "start_time": "2020-04-14T18:02:30.136468Z"
    }
   },
   "source": [
    "## CNN Result Analysis"
   ]
  },
  {
   "cell_type": "code",
   "execution_count": 2,
   "metadata": {
    "ExecuteTime": {
     "end_time": "2020-04-15T01:58:35.319235Z",
     "start_time": "2020-04-15T01:58:34.531212Z"
    }
   },
   "outputs": [],
   "source": [
    "best_model_path = '.\\\\Data\\\\AAPL\\\\best_model\\\\model' +'20200414_2153'\n",
    "get_custom_objects().update({\"f1_metric\": f1_metric})\n",
    "model = load_model(best_model_path)"
   ]
  },
  {
   "cell_type": "code",
   "execution_count": 23,
   "metadata": {
    "ExecuteTime": {
     "end_time": "2020-04-15T21:44:08.493723Z",
     "start_time": "2020-04-15T21:44:08.486741Z"
    }
   },
   "outputs": [
    {
     "data": {
      "text/plain": [
       "(250,)"
      ]
     },
     "execution_count": 23,
     "metadata": {},
     "output_type": "execute_result"
    }
   ],
   "source": [
    "y_test_classes"
   ]
  },
  {
   "cell_type": "code",
   "execution_count": 20,
   "metadata": {
    "ExecuteTime": {
     "end_time": "2020-04-15T21:28:11.160752Z",
     "start_time": "2020-04-15T21:28:10.779613Z"
    }
   },
   "outputs": [
    {
     "name": "stdout",
     "output_type": "stream",
     "text": [
      "keras evaluate= [0.553562994480133, 0.888, 0.8879206]\n",
      "Confusion Matrix:\n",
      "[[  2   0  10]\n",
      " [  0   6   7]\n",
      " [  1  10 214]]\n"
     ]
    },
    {
     "data": {
      "image/png": "[encoded data removed]",
      "text/plain": [
       "<Figure size 480x480 with 2 Axes>"
      ]
     },
     "metadata": {
      "needs_background": "light"
     },
     "output_type": "display_data"
    },
    {
     "name": "stdout",
     "output_type": "stream",
     "text": [
      "precision of class 0 = 0.17\n",
      "precision of class 1 = 0.46\n",
      "precision of class 2 = 0.95\n",
      "precision avg 0.53 \n",
      "\n",
      "\n",
      "F1 score (weighted) 0.88\n",
      "F1 score (macro) 0.54\n",
      "F1 score (micro) 0.89\n",
      "cohen's Kappa 0.3191323801186655 \n",
      "\n"
     ]
    }
   ],
   "source": [
    "test_res = model.evaluate(x_test, y_test, verbose=0) # loss of test data\n",
    "print(\"keras evaluate=\", test_res)\n",
    "pred_classes, y_test_classes =  test_analysis(model, x_test, y_test)\n",
    "conf_mat = Confusion_Mat(y_test_classes, pred_classes)\n",
    "cal_f1_scores(y_test_classes, pred_classes)"
   ]
  }
 ],
 "metadata": {
  "hide_input": false,
  "kernelspec": {
   "display_name": "Python 3",
   "language": "python",
   "name": "python3"
  },
  "language_info": {
   "codemirror_mode": {
    "name": "ipython",
    "version": 3
   },
   "file_extension": ".py",
   "mimetype": "text/x-python",
   "name": "python",
   "nbconvert_exporter": "python",
   "pygments_lexer": "ipython3",
   "version": "3.7.7"
  },
  "varInspector": {
   "cols": {
    "lenName": 16,
    "lenType": 16,
    "lenVar": 40
   },
   "kernels_config": {
    "python": {
     "delete_cmd_postfix": "",
     "delete_cmd_prefix": "del ",
     "library": "var_list.py",
     "varRefreshCmd": "print(var_dic_list())"
    },
    "r": {
     "delete_cmd_postfix": ") ",
     "delete_cmd_prefix": "rm(",
     "library": "var_list.r",
     "varRefreshCmd": "cat(var_dic_list()) "
    }
   },
   "types_to_exclude": [
    "module",
    "function",
    "builtin_function_or_method",
    "instance",
    "_Feature"
   ],
   "window_display": false
  }
 },
 "nbformat": 4,
 "nbformat_minor": 2
}
